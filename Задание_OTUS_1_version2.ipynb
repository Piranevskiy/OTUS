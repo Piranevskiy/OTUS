{
  "nbformat": 4,
  "nbformat_minor": 0,
  "metadata": {
    "colab": {
      "provenance": []
    },
    "kernelspec": {
      "name": "python3",
      "display_name": "Python 3"
    },
    "language_info": {
      "name": "python"
    }
  },
  "cells": [
    {
      "cell_type": "code",
      "metadata": {
        "id": "VHHKEJQSVn9G",
        "colab": {
          "base_uri": "https://localhost:8080/"
        },
        "outputId": "85940b68-ca77-44c7-8482-ca661e338c1a"
      },
      "source": [
        "\n",
        "!pip install pyspark==3.3.0\n"
      ],
      "execution_count": null,
      "outputs": [
        {
          "output_type": "stream",
          "name": "stdout",
          "text": [
            "Requirement already satisfied: pyspark==3.3.0 in /usr/local/lib/python3.10/dist-packages (3.3.0)\n",
            "Requirement already satisfied: py4j==0.10.9.5 in /usr/local/lib/python3.10/dist-packages (from pyspark==3.3.0) (0.10.9.5)\n"
          ]
        }
      ]
    },
    {
      "cell_type": "code",
      "source": [
        "!pip install --no-cache-dir mmh3 bitarray"
      ],
      "metadata": {
        "colab": {
          "base_uri": "https://localhost:8080/"
        },
        "id": "L97sWzFCUUOs",
        "outputId": "6c4bbadc-b689-49bf-99bd-a3fc99cca620"
      },
      "execution_count": null,
      "outputs": [
        {
          "output_type": "stream",
          "name": "stdout",
          "text": [
            "Requirement already satisfied: mmh3 in /usr/local/lib/python3.10/dist-packages (4.1.0)\n",
            "Requirement already satisfied: bitarray in /usr/local/lib/python3.10/dist-packages (2.9.2)\n"
          ]
        }
      ]
    },
    {
      "cell_type": "code",
      "source": [
        "from pyspark.sql import SparkSession\n",
        "from pyspark.sql import DataFrame\n",
        "from pyspark.sql import functions as f\n",
        "from pyspark.sql import types as t\n",
        "from pyspark.sql.window import Window\n",
        "from pyspark.sql.column import _to_java_column\n",
        "from pyspark.sql.column import _to_seq\n",
        "# from pyspark.sql.functions import PandasUDFType, pandas_udf, UserDefinedFunction\n",
        "\n",
        "import timeit\n",
        "import pandas as pd\n",
        "from typing import Any, Dict, List, Optional\n",
        "\n"
      ],
      "metadata": {
        "id": "XVtv6QW4T39Y"
      },
      "execution_count": null,
      "outputs": []
    },
    {
      "cell_type": "code",
      "source": [
        "spark = (\n",
        "    SparkSession.builder.master(\"local[*]\")\n",
        "    .appName(\"TEST-R\")\n",
        "   # .config(\"spark.yarn.queue\", \"data_science\")#  data_science -> user\n",
        "    .config(\"spark.driver.cores\", \"4\")\n",
        "    .config(\"spark.driver.memory\", \"6g\")\n",
        "    .config(\"spark.executor.cores\", \"4\")\n",
        "    .config(\"spark.executor.memory\", \"10g\")\n",
        "    .config(\"spark.default.parallelism\", \"10\")\n",
        "    .config(\"spark.dynamicAllocation.enabled\", \"true\")\n",
        "    .config(\"spark.dynamicAllocation.minExecutors\", \"1\")\n",
        "    .config(\"spark.dynamicAllocation.maxExecutors\", \"10\")\n",
        "    .config(\"spark.shuffle.service.enabled\", \"true\")\n",
        "    .config('spark.sql.autoBroadcastJoinThreshold', -1)\n",
        "    .config('spark.sql.adaptive.enabled', 'false')\n",
        "    .config(\"spark.jars\", \"/content/super_udf_lib.jar\")\n",
        "    .config(\"spark.port.maxRetries\", \"100000\")\n",
        "    .enableHiveSupport()\n",
        "    .getOrCreate()\n",
        ")"
      ],
      "metadata": {
        "id": "ZbbO7xcQUzOr"
      },
      "execution_count": null,
      "outputs": []
    },
    {
      "cell_type": "code",
      "source": [
        "spark"
      ],
      "metadata": {
        "colab": {
          "base_uri": "https://localhost:8080/",
          "height": 221
        },
        "id": "c83v1P10VWnt",
        "outputId": "9a83a9e9-1169-4100-a2cb-60abe2a0e086"
      },
      "execution_count": null,
      "outputs": [
        {
          "output_type": "execute_result",
          "data": {
            "text/plain": [
              "<pyspark.sql.session.SparkSession at 0x7d7ed277baf0>"
            ],
            "text/html": [
              "\n",
              "            <div>\n",
              "                <p><b>SparkSession - hive</b></p>\n",
              "                \n",
              "        <div>\n",
              "            <p><b>SparkContext</b></p>\n",
              "\n",
              "            <p><a href=\"http://8742e3e0bfdf:4040\">Spark UI</a></p>\n",
              "\n",
              "            <dl>\n",
              "              <dt>Version</dt>\n",
              "                <dd><code>v3.3.0</code></dd>\n",
              "              <dt>Master</dt>\n",
              "                <dd><code>local[*]</code></dd>\n",
              "              <dt>AppName</dt>\n",
              "                <dd><code>TEST-R</code></dd>\n",
              "            </dl>\n",
              "        </div>\n",
              "        \n",
              "            </div>\n",
              "        "
            ]
          },
          "metadata": {},
          "execution_count": 5
        }
      ]
    },
    {
      "cell_type": "code",
      "source": [
        "sc = spark.sparkContext"
      ],
      "metadata": {
        "id": "JYpcBvSRVpWz"
      },
      "execution_count": null,
      "outputs": []
    },
    {
      "cell_type": "code",
      "source": [
        "_scala_func = sc._jvm.CustomUDFs.splitTagsUDF()"
      ],
      "metadata": {
        "id": "UDI-aNNhaKxg"
      },
      "execution_count": null,
      "outputs": []
    },
    {
      "cell_type": "markdown",
      "source": [
        "# Новый раздел"
      ],
      "metadata": {
        "id": "vBFVWWszzmfD"
      }
    },
    {
      "cell_type": "code",
      "source": [
        "def scl_split(col: f.Column):\n",
        "    _scala_func = sc._jvm.CustomUDFs.splitTagsUDF()\n",
        "    return f.Column(_scala_func.apply(_to_seq(sc, [col], _to_java_column)))"
      ],
      "metadata": {
        "id": "OUIbCh5WVz_d"
      },
      "execution_count": null,
      "outputs": []
    },
    {
      "cell_type": "code",
      "source": [
        "videos = spark.read.option('header', 'true').option(\"inferSchema\", \"true\").csv('./USvideos.csv')"
      ],
      "metadata": {
        "id": "ftq3lQ-gYc6p"
      },
      "execution_count": null,
      "outputs": []
    },
    {
      "cell_type": "code",
      "source": [
        "%%time\n",
        "videos.withColumn(\"new_tags\", scl_split(f.col(\"tags\"))).show(2)"
      ],
      "metadata": {
        "colab": {
          "base_uri": "https://localhost:8080/"
        },
        "id": "v2fyOy3wYdEB",
        "outputId": "2224eaa8-35b2-4856-9513-08ba100a9b69"
      },
      "execution_count": null,
      "outputs": [
        {
          "output_type": "stream",
          "name": "stdout",
          "text": [
            "+-----------+--------------------+----------------+-----------+--------------------+-------+------+--------+-------------+--------------------+-----+--------------------+\n",
            "|   video_id|               title|   channel_title|category_id|                tags|  views| likes|dislikes|comment_total|      thumbnail_link| date|            new_tags|\n",
            "+-----------+--------------------+----------------+-----------+--------------------+-------+------+--------+-------------+--------------------+-----+--------------------+\n",
            "|XpVt6Z1Gjjo|1 YEAR OF VLOGGIN...|Logan Paul Vlogs|         24|logan paul vlog|l...|4394029|320053|    5931|        46245|https://i.ytimg.c...|13.09|[logan paul vlog,...|\n",
            "|K4wEI5zhHB0|iPhone X — Introd...|           Apple|         28|Apple|iPhone 10|i...|7860119|185853|   26679|            0|https://i.ytimg.c...|13.09|[Apple, iPhone 10...|\n",
            "+-----------+--------------------+----------------+-----------+--------------------+-------+------+--------+-------------+--------------------+-----+--------------------+\n",
            "only showing top 2 rows\n",
            "\n",
            "CPU times: user 21.5 ms, sys: 1.92 ms, total: 23.4 ms\n",
            "Wall time: 2.72 s\n"
          ]
        }
      ]
    },
    {
      "cell_type": "code",
      "source": [
        "def py_split(tag: pd.Series) -> pd.Series:\n",
        "    return tag.str.split(pat=\"|\")\n",
        "split = f.pandas_udf(py_split, returnType=t.ArrayType(t.StringType()))"
      ],
      "metadata": {
        "id": "xtiYK4sUYdM5"
      },
      "execution_count": null,
      "outputs": []
    },
    {
      "cell_type": "code",
      "source": [
        "%%time\n",
        "videos.withColumn(\"new_tags\", split(f.col(\"tags\"))).show(2)"
      ],
      "metadata": {
        "colab": {
          "base_uri": "https://localhost:8080/"
        },
        "id": "d7_nANatYdP5",
        "outputId": "ffde4cd3-a1f0-4c8d-bafd-61d0d506938b"
      },
      "execution_count": null,
      "outputs": [
        {
          "output_type": "stream",
          "name": "stdout",
          "text": [
            "+-----------+--------------------+----------------+-----------+--------------------+-------+------+--------+-------------+--------------------+-----+--------------------+\n",
            "|   video_id|               title|   channel_title|category_id|                tags|  views| likes|dislikes|comment_total|      thumbnail_link| date|            new_tags|\n",
            "+-----------+--------------------+----------------+-----------+--------------------+-------+------+--------+-------------+--------------------+-----+--------------------+\n",
            "|XpVt6Z1Gjjo|1 YEAR OF VLOGGIN...|Logan Paul Vlogs|         24|logan paul vlog|l...|4394029|320053|    5931|        46245|https://i.ytimg.c...|13.09|[logan paul vlog,...|\n",
            "|K4wEI5zhHB0|iPhone X — Introd...|           Apple|         28|Apple|iPhone 10|i...|7860119|185853|   26679|            0|https://i.ytimg.c...|13.09|[Apple, iPhone 10...|\n",
            "+-----------+--------------------+----------------+-----------+--------------------+-------+------+--------+-------------+--------------------+-----+--------------------+\n",
            "only showing top 2 rows\n",
            "\n",
            "CPU times: user 32.6 ms, sys: 4.31 ms, total: 36.9 ms\n",
            "Wall time: 3.84 s\n"
          ]
        }
      ]
    },
    {
      "cell_type": "markdown",
      "source": [
        "Из двух вариантов, побеждает фанкция написанная на scala.\n",
        "\n",
        "Производительность выше в три раза `Wall time: 457 ms` -> `Wall time: 1.4 s`"
      ],
      "metadata": {
        "id": "g66-Q9Gnffyk"
      }
    },
    {
      "cell_type": "code",
      "source": [
        "videos_tg = videos.withColumn(\"tags\", scl_split(f.col(\"tags\")))\n",
        "#.cache() -> Cached Partitions 1 Size in Memory 3.8 MiB"
      ],
      "metadata": {
        "id": "DlMtmVBMYdSx"
      },
      "execution_count": null,
      "outputs": []
    },
    {
      "cell_type": "code",
      "source": [
        "videos_tg.printSchema()"
      ],
      "metadata": {
        "colab": {
          "base_uri": "https://localhost:8080/"
        },
        "id": "iH5O_Q-jYdV6",
        "outputId": "b23608a6-bf13-4c69-9d30-cf18d3d73b4d"
      },
      "execution_count": null,
      "outputs": [
        {
          "output_type": "stream",
          "name": "stdout",
          "text": [
            "root\n",
            " |-- video_id: string (nullable = true)\n",
            " |-- title: string (nullable = true)\n",
            " |-- channel_title: string (nullable = true)\n",
            " |-- category_id: integer (nullable = true)\n",
            " |-- tags: array (nullable = true)\n",
            " |    |-- element: string (containsNull = true)\n",
            " |-- views: integer (nullable = true)\n",
            " |-- likes: integer (nullable = true)\n",
            " |-- dislikes: integer (nullable = true)\n",
            " |-- comment_total: integer (nullable = true)\n",
            " |-- thumbnail_link: string (nullable = true)\n",
            " |-- date: string (nullable = true)\n",
            "\n"
          ]
        }
      ]
    },
    {
      "cell_type": "code",
      "source": [
        "videos_tg.count()"
      ],
      "metadata": {
        "colab": {
          "base_uri": "https://localhost:8080/"
        },
        "id": "2N6lOFFoYdYx",
        "outputId": "8a660121-558c-401d-c55c-b3c3fb4fb351"
      },
      "execution_count": null,
      "outputs": [
        {
          "output_type": "execute_result",
          "data": {
            "text/plain": [
              "7998"
            ]
          },
          "metadata": {},
          "execution_count": 15
        }
      ]
    },
    {
      "cell_type": "code",
      "source": [
        "comments_schema = (\n",
        "    t.StructType([\n",
        "    t.StructField(\"video_id\", t.StringType(), True),\n",
        "    t.StructField(\"comment_text\", t.StringType(), True),\n",
        "    t.StructField(\"likes\", t.IntegerType(), True),\n",
        "    t.StructField(\"replies\", t.IntegerType(), True)])\n",
        ")\n",
        "comments = spark.read.option('header', 'true').option(\"mode\", \"DROPMALFORMED\").schema(comments_schema).csv('./UScomments.csv')\n",
        "#.cache() -> Cached Partitions 10 Size in Memory 60.0 MiB"
      ],
      "metadata": {
        "id": "gyRosJcXYdbh"
      },
      "execution_count": null,
      "outputs": []
    },
    {
      "cell_type": "code",
      "source": [
        "comments.sort(f.desc(\"likes\"), f.desc(\"replies\")).show(10, False) # 691323"
      ],
      "metadata": {
        "colab": {
          "base_uri": "https://localhost:8080/"
        },
        "id": "v3Ff8P4ye6fE",
        "outputId": "0bf98af9-e899-4669-b226-10a508c1d9ec"
      },
      "execution_count": null,
      "outputs": [
        {
          "output_type": "stream",
          "name": "stdout",
          "text": [
            "+-----------+----------------------------------------------------------------------------------------------------------------------------+-----+-------+\n",
            "|video_id   |comment_text                                                                                                                |likes|replies|\n",
            "+-----------+----------------------------------------------------------------------------------------------------------------------------+-----+-------+\n",
            "|0R7MQwmbiQc|What if Mable was the duck??                                                                                                |48772|501    |\n",
            "|0R7MQwmbiQc|What if Mable was the duck??                                                                                                |47785|501    |\n",
            "|0R7MQwmbiQc|What if Mable was the duck??                                                                                                |45316|500    |\n",
            "|0R7MQwmbiQc|What if Mable was the duck??                                                                                                |39530|500    |\n",
            "|LBLGo2y_BBU|Cristine is the closest thing we have to parental supervision on Youtube.                                                   |23295|366    |\n",
            "|LBLGo2y_BBU|Cristine is the closest thing we have to parental supervision on Youtube.                                                   |23152|340    |\n",
            "|LBLGo2y_BBU|Cristine is the closest thing we have to parental supervision on Youtube.                                                   |22843|274    |\n",
            "|WYoWaouvXXA|HI DIY QUEENS 👑❤️ it's finally HERREEEE!! download links for iTunes etc in description in case u need the song on repeat 🙊|22580|500    |\n",
            "|LBLGo2y_BBU|Cristine is the closest thing we have to parental supervision on Youtube.                                                   |22245|277    |\n",
            "|WYoWaouvXXA|HI DIY QUEENS 👑❤️ it's finally HERREEEE!! download links for iTunes etc in description in case u need the song on repeat 🙊|22102|500    |\n",
            "+-----------+----------------------------------------------------------------------------------------------------------------------------+-----+-------+\n",
            "only showing top 10 rows\n",
            "\n"
          ]
        }
      ]
    },
    {
      "cell_type": "code",
      "source": [
        "comments.count()"
      ],
      "metadata": {
        "colab": {
          "base_uri": "https://localhost:8080/"
        },
        "id": "RpKLuBbje7FU",
        "outputId": "6670ae42-ed21-4f6b-d8bf-513fe2e2f3c8"
      },
      "execution_count": null,
      "outputs": [
        {
          "output_type": "execute_result",
          "data": {
            "text/plain": [
              "494543"
            ]
          },
          "metadata": {},
          "execution_count": 18
        }
      ]
    },
    {
      "cell_type": "markdown",
      "source": [
        "Будем считать что таблица `comments` у нас гиганская -> `691722 rows`, а таблица `videos` среднего размера -> `7998 rows`\n",
        "\n",
        "Сравним как будет работать обычный join и 'соленый'"
      ],
      "metadata": {
        "id": "Uuozi7jhfHvP"
      }
    },
    {
      "cell_type": "code",
      "source": [
        "%%time\n",
        "test_join = (\n",
        "    videos_tg\n",
        "    .join(comments, on=[\"video_id\"], how=\"left\")\n",
        ").explain() # show(2)"
      ],
      "metadata": {
        "colab": {
          "base_uri": "https://localhost:8080/"
        },
        "id": "l8IDP9iae7I9",
        "outputId": "506aaf86-361d-4195-8300-0ddbfa1d875f"
      },
      "execution_count": null,
      "outputs": [
        {
          "output_type": "stream",
          "name": "stdout",
          "text": [
            "== Physical Plan ==\n",
            "*(5) Project [video_id#21, title#22, channel_title#23, category_id#24, tags#195, views#26, likes#27, dislikes#28, comment_total#29, thumbnail_link#30, date#31, comment_text#227, likes#228, replies#229]\n",
            "+- *(5) SortMergeJoin [video_id#21], [video_id#226], LeftOuter\n",
            "   :- *(2) Sort [video_id#21 ASC NULLS FIRST], false, 0\n",
            "   :  +- Exchange hashpartitioning(video_id#21, 200), ENSURE_REQUIREMENTS, [id=#136]\n",
            "   :     +- *(1) Project [video_id#21, title#22, channel_title#23, category_id#24, UDF(tags#25) AS tags#195, views#26, likes#27, dislikes#28, comment_total#29, thumbnail_link#30, date#31]\n",
            "   :        +- FileScan csv [video_id#21,title#22,channel_title#23,category_id#24,tags#25,views#26,likes#27,dislikes#28,comment_total#29,thumbnail_link#30,date#31] Batched: false, DataFilters: [], Format: CSV, Location: InMemoryFileIndex(1 paths)[file:/content/USvideos.csv], PartitionFilters: [], PushedFilters: [], ReadSchema: struct<video_id:string,title:string,channel_title:string,category_id:int,tags:string,views:int,li...\n",
            "   +- *(4) Sort [video_id#226 ASC NULLS FIRST], false, 0\n",
            "      +- Exchange hashpartitioning(video_id#226, 200), ENSURE_REQUIREMENTS, [id=#144]\n",
            "         +- *(3) Filter isnotnull(video_id#226)\n",
            "            +- FileScan csv [video_id#226,comment_text#227,likes#228,replies#229] Batched: false, DataFilters: [isnotnull(video_id#226)], Format: CSV, Location: InMemoryFileIndex(1 paths)[file:/content/UScomments.csv], PartitionFilters: [], PushedFilters: [IsNotNull(video_id)], ReadSchema: struct<video_id:string,comment_text:string,likes:int,replies:int>\n",
            "\n",
            "\n",
            "CPU times: user 4.5 ms, sys: 0 ns, total: 4.5 ms\n",
            "Wall time: 217 ms\n"
          ]
        }
      ]
    },
    {
      "cell_type": "code",
      "source": [
        "%%time\n",
        "test_join = (\n",
        "    videos_tg\n",
        "    .join(comments, on=[\"video_id\"], how=\"left\")\n",
        ").show(2)"
      ],
      "metadata": {
        "colab": {
          "base_uri": "https://localhost:8080/"
        },
        "id": "uhzRnQS6gieO",
        "outputId": "f08ff0e0-6297-4b33-a2d6-2e09f25d4b9a"
      },
      "execution_count": null,
      "outputs": [
        {
          "output_type": "stream",
          "name": "stdout",
          "text": [
            "+-----------+--------------------+-------------+-----------+--------------------+-------+------+--------+-------------+--------------------+-----+--------------------+-----+-------+\n",
            "|   video_id|               title|channel_title|category_id|                tags|  views| likes|dislikes|comment_total|      thumbnail_link| date|        comment_text|likes|replies|\n",
            "+-----------+--------------------+-------------+-----------+--------------------+-------+------+--------+-------------+--------------------+-----+--------------------+-----+-------+\n",
            "|K4wEI5zhHB0|iPhone X — Introd...|        Apple|         28|[Apple, iPhone 10...|7860119|185853|   26679|            0|https://i.ytimg.c...|13.09|                null| null|   null|\n",
            "|cLdxuaxaQwc|         My Response|    PewDiePie|         22|            [[none]]|5845909|576597|   39774|       170708|https://i.ytimg.c...|13.09|Love you Pewdiepi...|    0|      0|\n",
            "+-----------+--------------------+-------------+-----------+--------------------+-------+------+--------+-------------+--------------------+-----+--------------------+-----+-------+\n",
            "only showing top 2 rows\n",
            "\n",
            "CPU times: user 47 ms, sys: 6.24 ms, total: 53.3 ms\n",
            "Wall time: 7.49 s\n"
          ]
        }
      ]
    },
    {
      "cell_type": "code",
      "source": [
        "%%time\n",
        "test_join = (\n",
        "    comments\n",
        "    .join(f.broadcast(videos_tg), on=[\"video_id\"], how=\"right\")\n",
        ").explain()"
      ],
      "metadata": {
        "colab": {
          "base_uri": "https://localhost:8080/"
        },
        "id": "LPcKLauke7Ms",
        "outputId": "81a7e6e0-4b6d-4d38-cca3-7c5f152fee30"
      },
      "execution_count": null,
      "outputs": [
        {
          "output_type": "stream",
          "name": "stdout",
          "text": [
            "== Physical Plan ==\n",
            "*(5) Project [video_id#21, comment_text#227, likes#228, replies#229, title#22, channel_title#23, category_id#24, tags#195, views#26, likes#27, dislikes#28, comment_total#29, thumbnail_link#30, date#31]\n",
            "+- *(5) SortMergeJoin [video_id#226], [video_id#21], RightOuter\n",
            "   :- *(2) Sort [video_id#226 ASC NULLS FIRST], false, 0\n",
            "   :  +- Exchange hashpartitioning(video_id#226, 200), ENSURE_REQUIREMENTS, [id=#274]\n",
            "   :     +- *(1) Filter isnotnull(video_id#226)\n",
            "   :        +- FileScan csv [video_id#226,comment_text#227,likes#228,replies#229] Batched: false, DataFilters: [isnotnull(video_id#226)], Format: CSV, Location: InMemoryFileIndex(1 paths)[file:/content/UScomments.csv], PartitionFilters: [], PushedFilters: [IsNotNull(video_id)], ReadSchema: struct<video_id:string,comment_text:string,likes:int,replies:int>\n",
            "   +- *(4) Sort [video_id#21 ASC NULLS FIRST], false, 0\n",
            "      +- Exchange hashpartitioning(video_id#21, 200), ENSURE_REQUIREMENTS, [id=#282]\n",
            "         +- *(3) Project [video_id#21, title#22, channel_title#23, category_id#24, UDF(tags#25) AS tags#195, views#26, likes#27, dislikes#28, comment_total#29, thumbnail_link#30, date#31]\n",
            "            +- FileScan csv [video_id#21,title#22,channel_title#23,category_id#24,tags#25,views#26,likes#27,dislikes#28,comment_total#29,thumbnail_link#30,date#31] Batched: false, DataFilters: [], Format: CSV, Location: InMemoryFileIndex(1 paths)[file:/content/USvideos.csv], PartitionFilters: [], PushedFilters: [], ReadSchema: struct<video_id:string,title:string,channel_title:string,category_id:int,tags:string,views:int,li...\n",
            "\n",
            "\n",
            "CPU times: user 4.99 ms, sys: 0 ns, total: 4.99 ms\n",
            "Wall time: 97.2 ms\n"
          ]
        }
      ]
    },
    {
      "cell_type": "code",
      "source": [
        "%%time\n",
        "test_join = (\n",
        "    comments\n",
        "    .join(f.broadcast(videos_tg), on=[\"video_id\"], how=\"right\")\n",
        ").show(2)"
      ],
      "metadata": {
        "colab": {
          "base_uri": "https://localhost:8080/"
        },
        "id": "EOdedyN-gnjc",
        "outputId": "05275aaf-0431-40bd-e958-f35052d069a1"
      },
      "execution_count": null,
      "outputs": [
        {
          "output_type": "stream",
          "name": "stdout",
          "text": [
            "+-----------+--------------------+-----+-------+--------------------+-------------+-----------+--------------------+-------+------+--------+-------------+--------------------+-----+\n",
            "|   video_id|        comment_text|likes|replies|               title|channel_title|category_id|                tags|  views| likes|dislikes|comment_total|      thumbnail_link| date|\n",
            "+-----------+--------------------+-----+-------+--------------------+-------------+-----------+--------------------+-------+------+--------+-------------+--------------------+-----+\n",
            "|K4wEI5zhHB0|                null| null|   null|iPhone X — Introd...|        Apple|         28|[Apple, iPhone 10...|7860119|185853|   26679|            0|https://i.ytimg.c...|13.09|\n",
            "|cLdxuaxaQwc|Love you Pewdiepi...|    0|      0|         My Response|    PewDiePie|         22|            [[none]]|5845909|576597|   39774|       170708|https://i.ytimg.c...|13.09|\n",
            "+-----------+--------------------+-----+-------+--------------------+-------------+-----------+--------------------+-------+------+--------+-------------+--------------------+-----+\n",
            "only showing top 2 rows\n",
            "\n",
            "CPU times: user 34.8 ms, sys: 4.61 ms, total: 39.4 ms\n",
            "Wall time: 5.35 s\n"
          ]
        }
      ]
    },
    {
      "cell_type": "markdown",
      "source": [
        "Из плана запроса видно что broadcast не сработал и выполнился повторно SortMergeJoin"
      ],
      "metadata": {
        "id": "RPVUBAifgUe8"
      }
    },
    {
      "cell_type": "code",
      "source": [
        "%%time\n",
        "test_join = (\n",
        "    videos_tg\n",
        "    .join(f.broadcast(comments), on=[\"video_id\"], how=\"left\")\n",
        ").explain()"
      ],
      "metadata": {
        "colab": {
          "base_uri": "https://localhost:8080/"
        },
        "id": "P9DX_BrUe7P-",
        "outputId": "4ef3ac7e-7d01-47ea-afe2-81e317bd6b39"
      },
      "execution_count": null,
      "outputs": [
        {
          "output_type": "stream",
          "name": "stdout",
          "text": [
            "== Physical Plan ==\n",
            "*(2) Project [video_id#21, title#22, channel_title#23, category_id#24, tags#195, views#26, likes#27, dislikes#28, comment_total#29, thumbnail_link#30, date#31, comment_text#227, likes#228, replies#229]\n",
            "+- *(2) BroadcastHashJoin [video_id#21], [video_id#226], LeftOuter, BuildRight, false\n",
            "   :- *(2) Project [video_id#21, title#22, channel_title#23, category_id#24, UDF(tags#25) AS tags#195, views#26, likes#27, dislikes#28, comment_total#29, thumbnail_link#30, date#31]\n",
            "   :  +- FileScan csv [video_id#21,title#22,channel_title#23,category_id#24,tags#25,views#26,likes#27,dislikes#28,comment_total#29,thumbnail_link#30,date#31] Batched: false, DataFilters: [], Format: CSV, Location: InMemoryFileIndex(1 paths)[file:/content/USvideos.csv], PartitionFilters: [], PushedFilters: [], ReadSchema: struct<video_id:string,title:string,channel_title:string,category_id:int,tags:string,views:int,li...\n",
            "   +- BroadcastExchange HashedRelationBroadcastMode(List(input[0, string, false]),false), [id=#410]\n",
            "      +- *(1) Filter isnotnull(video_id#226)\n",
            "         +- FileScan csv [video_id#226,comment_text#227,likes#228,replies#229] Batched: false, DataFilters: [isnotnull(video_id#226)], Format: CSV, Location: InMemoryFileIndex(1 paths)[file:/content/UScomments.csv], PartitionFilters: [], PushedFilters: [IsNotNull(video_id)], ReadSchema: struct<video_id:string,comment_text:string,likes:int,replies:int>\n",
            "\n",
            "\n",
            "CPU times: user 2.87 ms, sys: 104 µs, total: 2.97 ms\n",
            "Wall time: 83.9 ms\n"
          ]
        }
      ]
    },
    {
      "cell_type": "code",
      "source": [
        "%%time\n",
        "test_join = (\n",
        "    videos_tg\n",
        "    .join(f.broadcast(comments), on=[\"video_id\"], how=\"left\")\n",
        ").show(2)"
      ],
      "metadata": {
        "colab": {
          "base_uri": "https://localhost:8080/"
        },
        "id": "PDTU8Q5Ne7Sn",
        "outputId": "41366dde-0a6c-4990-cd98-56145dd15d3b"
      },
      "execution_count": null,
      "outputs": [
        {
          "output_type": "stream",
          "name": "stdout",
          "text": [
            "+-----------+--------------------+----------------+-----------+--------------------+-------+------+--------+-------------+--------------------+-----+--------------------+-----+-------+\n",
            "|   video_id|               title|   channel_title|category_id|                tags|  views| likes|dislikes|comment_total|      thumbnail_link| date|        comment_text|likes|replies|\n",
            "+-----------+--------------------+----------------+-----------+--------------------+-------+------+--------+-------------+--------------------+-----+--------------------+-----+-------+\n",
            "|XpVt6Z1Gjjo|1 YEAR OF VLOGGIN...|Logan Paul Vlogs|         24|[logan paul vlog,...|4394029|320053|    5931|        46245|https://i.ytimg.c...|13.09|at10 30 on the vi...|    0|      1|\n",
            "|XpVt6Z1Gjjo|1 YEAR OF VLOGGIN...|Logan Paul Vlogs|         24|[logan paul vlog,...|4394029|320053|    5931|        46245|https://i.ytimg.c...|13.09|O M G !😂💚💚💚🔥...|    3|      0|\n",
            "+-----------+--------------------+----------------+-----------+--------------------+-------+------+--------+-------------+--------------------+-----+--------------------+-----+-------+\n",
            "only showing top 2 rows\n",
            "\n",
            "CPU times: user 50.3 ms, sys: 4.95 ms, total: 55.3 ms\n",
            "Wall time: 7.44 s\n"
          ]
        }
      ]
    },
    {
      "cell_type": "markdown",
      "source": [
        "В этом случае broadcast сработал\n",
        "\n",
        "После применения время выполнения сокрасилось примерно в два раза с `7.9 s` до `4.6 s`"
      ],
      "metadata": {
        "id": "iuVL0FMRg88B"
      }
    },
    {
      "cell_type": "code",
      "source": [
        "videos.groupBy(f.col('video_id').alias('partition')).agg(f.count(\"*\").alias('partition_size')).sort(f.desc(\"partition_size\")).show()"
      ],
      "metadata": {
        "colab": {
          "base_uri": "https://localhost:8080/"
        },
        "id": "3zTK5W72e7Vu",
        "outputId": "ed99d541-fa61-45ac-e515-ee865c27690e"
      },
      "execution_count": null,
      "outputs": [
        {
          "output_type": "stream",
          "name": "stdout",
          "text": [
            "+-----------+--------------+\n",
            "|  partition|partition_size|\n",
            "+-----------+--------------+\n",
            "|LunHybOKIjU|             8|\n",
            "|Oo0NJsr5m4I|             8|\n",
            "|Hlt3rA-oDao|             8|\n",
            "|odhMmAPDc54|             7|\n",
            "|WYYvHb03Eog|             7|\n",
            "|oKzFGhlFqqE|             7|\n",
            "|UXdbCReBTR8|             7|\n",
            "|t8sgy0faXyg|             7|\n",
            "|KCNvREKTnQc|             7|\n",
            "|DeTu8xSGpEM|             7|\n",
            "|dInwVhRtN4E|             7|\n",
            "|8ndhidEmUbI|             7|\n",
            "|5Xe0Qd6bUFo|             7|\n",
            "|sjlHnJvXdQs|             7|\n",
            "|CwLGro-dFWg|             7|\n",
            "|1QWLyi03twg|             7|\n",
            "|cLdxuaxaQwc|             7|\n",
            "|OlI8r3nNUVw|             7|\n",
            "|iALfvFpcItE|             7|\n",
            "|ZczwzVhai9E|             7|\n",
            "+-----------+--------------+\n",
            "only showing top 20 rows\n",
            "\n"
          ]
        }
      ]
    },
    {
      "cell_type": "code",
      "source": [
        "salted_df = comments.withColumn('salt', (f.rand() * 3).cast('int'))\n",
        "salted_df.where(\"video_id == 'XpVt6Z1Gjjo'\").show()"
      ],
      "metadata": {
        "colab": {
          "base_uri": "https://localhost:8080/"
        },
        "id": "hDEmSf1ee7Ys",
        "outputId": "1ca30a58-f922-45eb-f9d5-9476c908e1df"
      },
      "execution_count": null,
      "outputs": [
        {
          "output_type": "stream",
          "name": "stdout",
          "text": [
            "+-----------+--------------------+-----+-------+----+\n",
            "|   video_id|        comment_text|likes|replies|salt|\n",
            "+-----------+--------------------+-----+-------+----+\n",
            "|XpVt6Z1Gjjo|Logan Paul it's y...|    4|      0|   0|\n",
            "|XpVt6Z1Gjjo|I've been followi...|    3|      0|   0|\n",
            "|XpVt6Z1Gjjo|Say hi to Kong an...|    3|      0|   0|\n",
            "|XpVt6Z1Gjjo| MY FAN . attendance|    3|      0|   0|\n",
            "|XpVt6Z1Gjjo|         trending 😉|    3|      0|   2|\n",
            "|XpVt6Z1Gjjo|#1 on trending AY...|    3|      0|   1|\n",
            "|XpVt6Z1Gjjo|The end though 😭...|    4|      0|   2|\n",
            "|XpVt6Z1Gjjo|#1 trending!!!!!!!!!|    3|      0|   2|\n",
            "|XpVt6Z1Gjjo|Happy one year vl...|    3|      0|   1|\n",
            "|XpVt6Z1Gjjo|You and your shit...|    0|      0|   2|\n",
            "|XpVt6Z1Gjjo|There should be a...|    0|      0|   0|\n",
            "|XpVt6Z1Gjjo|Dear Logan, I rea...|    0|      0|   0|\n",
            "|XpVt6Z1Gjjo|Honestly Evan is ...|    0|      0|   0|\n",
            "|XpVt6Z1Gjjo|Casey is still be...|    0|      0|   2|\n",
            "|XpVt6Z1Gjjo|aw geez rick this...|    0|      0|   2|\n",
            "|XpVt6Z1Gjjo|He happy cause he...|    0|      0|   1|\n",
            "|XpVt6Z1Gjjo|Ayyyyoooo Logang ...|    1|      0|   2|\n",
            "|XpVt6Z1Gjjo|Bro y didnt u giv...|    0|      0|   2|\n",
            "|XpVt6Z1Gjjo|It's been fun wat...|    3|      0|   0|\n",
            "|XpVt6Z1Gjjo|Made a lot of peo...|    0|      0|   1|\n",
            "+-----------+--------------------+-----+-------+----+\n",
            "only showing top 20 rows\n",
            "\n"
          ]
        }
      ]
    },
    {
      "cell_type": "code",
      "source": [
        "enriched_df = (\n",
        "    videos_tg\n",
        "    .select(\n",
        "        f.col('*'),\n",
        "        f.explode(f.array([f.lit(i) for i in [0, 1, 2]])).alias('salt')\n",
        "    )\n",
        ")\n",
        "enriched_df.show()"
      ],
      "metadata": {
        "colab": {
          "base_uri": "https://localhost:8080/"
        },
        "id": "Rp7QgY24e7bk",
        "outputId": "dde5429a-ddd9-4b70-bc37-0dedcfd95f94"
      },
      "execution_count": null,
      "outputs": [
        {
          "output_type": "stream",
          "name": "stdout",
          "text": [
            "+-----------+--------------------+--------------------+-----------+--------------------+-------+------+--------+-------------+--------------------+-----+----+\n",
            "|   video_id|               title|       channel_title|category_id|                tags|  views| likes|dislikes|comment_total|      thumbnail_link| date|salt|\n",
            "+-----------+--------------------+--------------------+-----------+--------------------+-------+------+--------+-------------+--------------------+-----+----+\n",
            "|XpVt6Z1Gjjo|1 YEAR OF VLOGGIN...|    Logan Paul Vlogs|         24|[logan paul vlog,...|4394029|320053|    5931|        46245|https://i.ytimg.c...|13.09|   0|\n",
            "|XpVt6Z1Gjjo|1 YEAR OF VLOGGIN...|    Logan Paul Vlogs|         24|[logan paul vlog,...|4394029|320053|    5931|        46245|https://i.ytimg.c...|13.09|   1|\n",
            "|XpVt6Z1Gjjo|1 YEAR OF VLOGGIN...|    Logan Paul Vlogs|         24|[logan paul vlog,...|4394029|320053|    5931|        46245|https://i.ytimg.c...|13.09|   2|\n",
            "|K4wEI5zhHB0|iPhone X — Introd...|               Apple|         28|[Apple, iPhone 10...|7860119|185853|   26679|            0|https://i.ytimg.c...|13.09|   0|\n",
            "|K4wEI5zhHB0|iPhone X — Introd...|               Apple|         28|[Apple, iPhone 10...|7860119|185853|   26679|            0|https://i.ytimg.c...|13.09|   1|\n",
            "|K4wEI5zhHB0|iPhone X — Introd...|               Apple|         28|[Apple, iPhone 10...|7860119|185853|   26679|            0|https://i.ytimg.c...|13.09|   2|\n",
            "|cLdxuaxaQwc|         My Response|           PewDiePie|         22|            [[none]]|5845909|576597|   39774|       170708|https://i.ytimg.c...|13.09|   0|\n",
            "|cLdxuaxaQwc|         My Response|           PewDiePie|         22|            [[none]]|5845909|576597|   39774|       170708|https://i.ytimg.c...|13.09|   1|\n",
            "|cLdxuaxaQwc|         My Response|           PewDiePie|         22|            [[none]]|5845909|576597|   39774|       170708|https://i.ytimg.c...|13.09|   2|\n",
            "|WYYvHb03Eog|Apple iPhone X fi...|           The Verge|         28|[apple iphone x h...|2642103| 24975|    4542|        12829|https://i.ytimg.c...|13.09|   0|\n",
            "|WYYvHb03Eog|Apple iPhone X fi...|           The Verge|         28|[apple iphone x h...|2642103| 24975|    4542|        12829|https://i.ytimg.c...|13.09|   1|\n",
            "|WYYvHb03Eog|Apple iPhone X fi...|           The Verge|         28|[apple iphone x h...|2642103| 24975|    4542|        12829|https://i.ytimg.c...|13.09|   2|\n",
            "|sjlHnJvXdQs|   iPhone X (parody)|          jacksfilms|         23|[jacksfilms, paro...|1168130| 96666|     568|         6666|https://i.ytimg.c...|13.09|   0|\n",
            "|sjlHnJvXdQs|   iPhone X (parody)|          jacksfilms|         23|[jacksfilms, paro...|1168130| 96666|     568|         6666|https://i.ytimg.c...|13.09|   1|\n",
            "|sjlHnJvXdQs|   iPhone X (parody)|          jacksfilms|         23|[jacksfilms, paro...|1168130| 96666|     568|         6666|https://i.ytimg.c...|13.09|   2|\n",
            "|cMKX2tE5Luk|The Disaster Arti...|                 A24|          1|[a24, a24 films, ...|1311445| 34507|     544|         3040|https://i.ytimg.c...|13.09|   0|\n",
            "|cMKX2tE5Luk|The Disaster Arti...|                 A24|          1|[a24, a24 films, ...|1311445| 34507|     544|         3040|https://i.ytimg.c...|13.09|   1|\n",
            "|cMKX2tE5Luk|The Disaster Arti...|                 A24|          1|[a24, a24 films, ...|1311445| 34507|     544|         3040|https://i.ytimg.c...|13.09|   2|\n",
            "|8wNr-NQImFg|The Check In: HUD...|Late Night with S...|         23|[Late night, Seth...| 666169|  9985|     297|         1071|https://i.ytimg.c...|13.09|   0|\n",
            "|8wNr-NQImFg|The Check In: HUD...|Late Night with S...|         23|[Late night, Seth...| 666169|  9985|     297|         1071|https://i.ytimg.c...|13.09|   1|\n",
            "+-----------+--------------------+--------------------+-----------+--------------------+-------+------+--------+-------------+--------------------+-----+----+\n",
            "only showing top 20 rows\n",
            "\n"
          ]
        }
      ]
    },
    {
      "cell_type": "code",
      "source": [
        "%%time\n",
        "joined_df = (\n",
        "    salted_df\n",
        "    .join(enriched_df, on=['video_id', 'salt'], how=\"left\")\n",
        ").drop('salt').show(2)"
      ],
      "metadata": {
        "colab": {
          "base_uri": "https://localhost:8080/"
        },
        "id": "65lTzLeqhNtM",
        "outputId": "2a614dfa-bca7-419a-8737-9014e6a98978"
      },
      "execution_count": null,
      "outputs": [
        {
          "output_type": "stream",
          "name": "stdout",
          "text": [
            "+-----------+--------------------+-----+-------+--------------------+----------------+-----------+--------------------+-------+------+--------+-------------+--------------------+-----+\n",
            "|   video_id|        comment_text|likes|replies|               title|   channel_title|category_id|                tags|  views| likes|dislikes|comment_total|      thumbnail_link| date|\n",
            "+-----------+--------------------+-----+-------+--------------------+----------------+-----------+--------------------+-------+------+--------+-------------+--------------------+-----+\n",
            "|XpVt6Z1Gjjo|Logan Paul it's y...|    4|      0|1 YEAR OF VLOGGIN...|Logan Paul Vlogs|         24|[logan paul vlog,...|4394029|320053|    5931|        46245|https://i.ytimg.c...|13.09|\n",
            "|XpVt6Z1Gjjo|Logan Paul it's y...|    4|      0|1 YEAR OF VLOGGIN...|Logan Paul Vlogs|         24|[logan paul vlog,...|5457497|349857|   17479|        52483|https://i.ytimg.c...|14.09|\n",
            "+-----------+--------------------+-----+-------+--------------------+----------------+-----------+--------------------+-------+------+--------+-------------+--------------------+-----+\n",
            "only showing top 2 rows\n",
            "\n",
            "CPU times: user 17.6 ms, sys: 1.65 ms, total: 19.2 ms\n",
            "Wall time: 2.08 s\n"
          ]
        }
      ]
    },
    {
      "cell_type": "code",
      "source": [
        "%%time\n",
        "joined_df = (\n",
        "    salted_df\n",
        "    .join(f.broadcast(enriched_df), on=['video_id', 'salt'], how=\"left\")\n",
        ").drop('salt').show(2)\n"
      ],
      "metadata": {
        "colab": {
          "base_uri": "https://localhost:8080/"
        },
        "id": "4y9I_3UthNwb",
        "outputId": "30c4e80c-1863-4d57-fdc3-101924553ad0"
      },
      "execution_count": null,
      "outputs": [
        {
          "output_type": "stream",
          "name": "stdout",
          "text": [
            "+-----------+--------------------+-----+-------+--------------------+----------------+-----------+--------------------+-------+------+--------+-------------+--------------------+-----+\n",
            "|   video_id|        comment_text|likes|replies|               title|   channel_title|category_id|                tags|  views| likes|dislikes|comment_total|      thumbnail_link| date|\n",
            "+-----------+--------------------+-----+-------+--------------------+----------------+-----------+--------------------+-------+------+--------+-------------+--------------------+-----+\n",
            "|XpVt6Z1Gjjo|Logan Paul it's y...|    4|      0|1 YEAR OF VLOGGIN...|Logan Paul Vlogs|         24|[logan paul vlog,...|6232518|373824|   23701|        39144|https://i.ytimg.c...|19.09|\n",
            "|XpVt6Z1Gjjo|Logan Paul it's y...|    4|      0|1 YEAR OF VLOGGIN...|Logan Paul Vlogs|         24|[logan paul vlog,...|6195810|372700|   23509|        39002|https://i.ytimg.c...|18.09|\n",
            "+-----------+--------------------+-----+-------+--------------------+----------------+-----------+--------------------+-------+------+--------+-------------+--------------------+-----+\n",
            "only showing top 2 rows\n",
            "\n",
            "CPU times: user 7.58 ms, sys: 3.1 ms, total: 10.7 ms\n",
            "Wall time: 827 ms\n"
          ]
        }
      ]
    },
    {
      "cell_type": "markdown",
      "source": [
        "‘Соленый’ join отработал примерно в 3 раза быстрее Wall time: 2.78 s -> Wall time: 7.68 s"
      ],
      "metadata": {
        "id": "824hsyrzhb8b"
      }
    },
    {
      "cell_type": "code",
      "source": [
        "%%time\n",
        "joined_df = (\n",
        "    salted_df\n",
        "    .withColumnRenamed('likes','comment_likes')\n",
        "    .join(enriched_df, on=['video_id', 'salt'], how=\"left\")\n",
        ").drop('salt')\n",
        "\n",
        "joined_df.show(2)"
      ],
      "metadata": {
        "colab": {
          "base_uri": "https://localhost:8080/"
        },
        "id": "6Z55xfTFhNz7",
        "outputId": "2d284c1d-c192-431f-927a-872b40135bd7"
      },
      "execution_count": null,
      "outputs": [
        {
          "output_type": "stream",
          "name": "stdout",
          "text": [
            "+-----------+--------------------+-------------+-------+--------------------+----------------+-----------+--------------------+-------+------+--------+-------------+--------------------+-----+\n",
            "|   video_id|        comment_text|comment_likes|replies|               title|   channel_title|category_id|                tags|  views| likes|dislikes|comment_total|      thumbnail_link| date|\n",
            "+-----------+--------------------+-------------+-------+--------------------+----------------+-----------+--------------------+-------+------+--------+-------------+--------------------+-----+\n",
            "|XpVt6Z1Gjjo|Logan Paul it's y...|            4|      0|1 YEAR OF VLOGGIN...|Logan Paul Vlogs|         24|[logan paul vlog,...|4394029|320053|    5931|        46245|https://i.ytimg.c...|13.09|\n",
            "|XpVt6Z1Gjjo|Logan Paul it's y...|            4|      0|1 YEAR OF VLOGGIN...|Logan Paul Vlogs|         24|[logan paul vlog,...|5457497|349857|   17479|        52483|https://i.ytimg.c...|14.09|\n",
            "+-----------+--------------------+-------------+-------+--------------------+----------------+-----------+--------------------+-------+------+--------+-------------+--------------------+-----+\n",
            "only showing top 2 rows\n",
            "\n",
            "CPU times: user 10.4 ms, sys: 976 µs, total: 11.4 ms\n",
            "Wall time: 1.21 s\n"
          ]
        }
      ]
    },
    {
      "cell_type": "code",
      "source": [
        "%%time\n",
        "joined_df = (\n",
        "    salted_df\n",
        "    .withColumnRenamed('likes','comment_likes')\n",
        "    .join(f.broadcast(enriched_df), on=['video_id', 'salt'], how=\"left\")\n",
        ").drop('salt')\n",
        "\n",
        "joined_df.show(2)"
      ],
      "metadata": {
        "colab": {
          "base_uri": "https://localhost:8080/"
        },
        "id": "eRst_RophN3G",
        "outputId": "c3778adc-3499-4bb4-fca8-5d87ad0933a4"
      },
      "execution_count": null,
      "outputs": [
        {
          "output_type": "stream",
          "name": "stdout",
          "text": [
            "+-----------+--------------------+-------------+-------+--------------------+----------------+-----------+--------------------+-------+------+--------+-------------+--------------------+-----+\n",
            "|   video_id|        comment_text|comment_likes|replies|               title|   channel_title|category_id|                tags|  views| likes|dislikes|comment_total|      thumbnail_link| date|\n",
            "+-----------+--------------------+-------------+-------+--------------------+----------------+-----------+--------------------+-------+------+--------+-------------+--------------------+-----+\n",
            "|XpVt6Z1Gjjo|Logan Paul it's y...|            4|      0|1 YEAR OF VLOGGIN...|Logan Paul Vlogs|         24|[logan paul vlog,...|6232518|373824|   23701|        39144|https://i.ytimg.c...|19.09|\n",
            "|XpVt6Z1Gjjo|Logan Paul it's y...|            4|      0|1 YEAR OF VLOGGIN...|Logan Paul Vlogs|         24|[logan paul vlog,...|6195810|372700|   23509|        39002|https://i.ytimg.c...|18.09|\n",
            "+-----------+--------------------+-------------+-------+--------------------+----------------+-----------+--------------------+-------+------+--------+-------------+--------------------+-----+\n",
            "only showing top 2 rows\n",
            "\n",
            "CPU times: user 10.2 ms, sys: 1.86 ms, total: 12 ms\n",
            "Wall time: 943 ms\n"
          ]
        }
      ]
    },
    {
      "cell_type": "markdown",
      "source": [
        "'Соленый' join + broadcast отработал еще быстрее примерно в 2 раза `Wall time: 2.19 s` -> `Wall time: 1.14 s`"
      ],
      "metadata": {
        "id": "PWHwLl-hhlJ7"
      }
    },
    {
      "cell_type": "code",
      "source": [
        "def score_count(views: pd.Series, likes: pd.Series, dislikes: pd.Series, comment_likes: pd.Series) -> pd.Series:\n",
        "    return views + likes - dislikes + comment_likes\n",
        "score = f.pandas_udf(score_count, returnType=t.LongType())"
      ],
      "metadata": {
        "id": "uHxhjoNVhN57"
      },
      "execution_count": null,
      "outputs": []
    },
    {
      "cell_type": "code",
      "source": [
        "scored_videos = (\n",
        "    joined_df\n",
        "    .withColumn(\"score\", score(f.col(\"views\"), f.col(\"likes\"), f.col(\"dislikes\"), f.col(\"comment_likes\")))\n",
        "    .drop(\"views\",\"likes\", \"dislikes\", \"comment_likes\")\n",
        ")"
      ],
      "metadata": {
        "id": "EW8yLXHBhN8z"
      },
      "execution_count": null,
      "outputs": []
    },
    {
      "cell_type": "code",
      "source": [
        "scored_videos. \\\n",
        "select(\"video_id\", \"category_id\", \"title\", \"channel_title\", \"score\"). \\\n",
        "groupBy(\"video_id\", \"category_id\",).agg(\n",
        "    f.max(\"score\").alias('score'),\n",
        "    f.first(\"title\").alias('title'),\n",
        "    f.first(\"channel_title\").alias('channel_title'),\n",
        ").sort(f.desc(\"score\")).show()"
      ],
      "metadata": {
        "colab": {
          "base_uri": "https://localhost:8080/"
        },
        "id": "ByhHM6dWhuOb",
        "outputId": "7f0f8b69-62b1-4cd4-ad26-97b7ab63601a"
      },
      "execution_count": null,
      "outputs": [
        {
          "output_type": "stream",
          "name": "stdout",
          "text": [
            "+-----------+-----------+--------+-------------------------+--------------------+\n",
            "|   video_id|category_id|   score|                    title|       channel_title|\n",
            "+-----------+-----------+--------+-------------------------+--------------------+\n",
            "|MBdVXkSdhwU|         10|43432970|BTS (방탄소년단) 'DNA'...|             ibighit|\n",
            "|tt2k8PGm-TI|         10|37727136|     ZAYN - Dusk Till ...|            ZaynVEVO|\n",
            "|LunHybOKIjU|         24|33990127|     Eminem Rips Donal...|         BETNetworks|\n",
            "|SHq2qrFUlGY|         10|32671746|     Shakira - Perro F...|         shakiraVEVO|\n",
            "|Q0CbN8sfihY|         24|28518501|     Star Wars: The La...|           Star Wars|\n",
            "|r9-DM9uBtVI|         24|19477394|     JUSTICE LEAGUE - ...|Warner Bros. Pict...|\n",
            "|FSOxXsYVJMQ|         10|16079719|BTS (방탄소년단) 'DNA'...|             ibighit|\n",
            "|GO6qs83CHpc|         25|16007153|     Sneaky toddler st...|The Royal Family ...|\n",
            "|D59v74k5flU|         22|15919288|     Primitive Technol...|Primitive Technology|\n",
            "|J_ub7Etch2U|         10|14521254|     Sam Smith - Too G...|   SamSmithWorldVEVO|\n",
            "|AX8-YzMKZhQ|         10|14190112|     Sam Smith - Too G...|   SamSmithWorldVEVO|\n",
            "|LcZ2AuvxXNA|         17|14109477|     Nerf Bow Trick Sh...|        Dude Perfect|\n",
            "|t2oVUxTV4WA|         23|13932777|     Celebrities Read ...|   Jimmy Kimmel Live|\n",
            "|APHgDFRpCi0|         10|13485218|     J Balvin, Willy W...|         jbalvinVEVO|\n",
            "|1NyMSWqIJDQ|         10|12375594|     Danielle Bregoli ...|         Bhad Bhabie|\n",
            "|XM23h-eJ08A|         17|11004704|     Soccer Trick Shot...|        Dude Perfect|\n",
            "|iKzRIweSBLA|         10|10154035|     Ed Sheeran - Perf...|          Ed Sheeran|\n",
            "|8ndhidEmUbI|         24| 9774157|     TOMB RAIDER - Off...|Warner Bros. Pict...|\n",
            "|cLdxuaxaQwc|         22| 9457320|              My Response|           PewDiePie|\n",
            "|Tm8LGxTLtQk|         10| 8753023|     One More Light (O...|         Linkin Park|\n",
            "+-----------+-----------+--------+-------------------------+--------------------+\n",
            "only showing top 20 rows\n",
            "\n"
          ]
        }
      ]
    },
    {
      "cell_type": "code",
      "source": [
        "category = spark.read.option(\"multiline\",\"true\") .json('./US_category_id.json')"
      ],
      "metadata": {
        "id": "p1keVNMHhuSG"
      },
      "execution_count": null,
      "outputs": []
    },
    {
      "cell_type": "code",
      "source": [
        "category = category.withColumn(\"items\", f.explode(category.items))"
      ],
      "metadata": {
        "id": "Q-l0n4zShuU7"
      },
      "execution_count": null,
      "outputs": []
    },
    {
      "cell_type": "code",
      "source": [
        "category.printSchema()"
      ],
      "metadata": {
        "colab": {
          "base_uri": "https://localhost:8080/"
        },
        "id": "_veJAEu7huX6",
        "outputId": "8cc53ff8-2c03-4ce4-b8ec-6612d9855c4e"
      },
      "execution_count": null,
      "outputs": [
        {
          "output_type": "stream",
          "name": "stdout",
          "text": [
            "root\n",
            " |-- etag: string (nullable = true)\n",
            " |-- items: struct (nullable = true)\n",
            " |    |-- etag: string (nullable = true)\n",
            " |    |-- id: string (nullable = true)\n",
            " |    |-- kind: string (nullable = true)\n",
            " |    |-- snippet: struct (nullable = true)\n",
            " |    |    |-- assignable: boolean (nullable = true)\n",
            " |    |    |-- channelId: string (nullable = true)\n",
            " |    |    |-- title: string (nullable = true)\n",
            " |-- kind: string (nullable = true)\n",
            "\n"
          ]
        }
      ]
    },
    {
      "cell_type": "code",
      "source": [
        "category.count()"
      ],
      "metadata": {
        "colab": {
          "base_uri": "https://localhost:8080/"
        },
        "id": "7cgj0LHIhuaz",
        "outputId": "1fc865ff-b24a-4557-c66b-36bd17e3d6e9"
      },
      "execution_count": null,
      "outputs": [
        {
          "output_type": "execute_result",
          "data": {
            "text/plain": [
              "32"
            ]
          },
          "metadata": {},
          "execution_count": 38
        }
      ]
    },
    {
      "cell_type": "code",
      "source": [
        "category_only = (\n",
        "    category\n",
        "    .select(\n",
        "    f.col(\"items.id\").alias(\"category_id\"),\n",
        "    f.col(\"items.snippet.title\").alias(\"category_title\"),\n",
        "    )\n",
        ")\n",
        "\n",
        "category_only.show(40, False)"
      ],
      "metadata": {
        "colab": {
          "base_uri": "https://localhost:8080/"
        },
        "id": "JjNIqfjYhudj",
        "outputId": "a059184e-90a4-41c0-e247-8fc7e4ef44f0"
      },
      "execution_count": null,
      "outputs": [
        {
          "output_type": "stream",
          "name": "stdout",
          "text": [
            "+-----------+---------------------+\n",
            "|category_id|category_title       |\n",
            "+-----------+---------------------+\n",
            "|1          |Film & Animation     |\n",
            "|2          |Autos & Vehicles     |\n",
            "|10         |Music                |\n",
            "|15         |Pets & Animals       |\n",
            "|17         |Sports               |\n",
            "|18         |Short Movies         |\n",
            "|19         |Travel & Events      |\n",
            "|20         |Gaming               |\n",
            "|21         |Videoblogging        |\n",
            "|22         |People & Blogs       |\n",
            "|23         |Comedy               |\n",
            "|24         |Entertainment        |\n",
            "|25         |News & Politics      |\n",
            "|26         |Howto & Style        |\n",
            "|27         |Education            |\n",
            "|28         |Science & Technology |\n",
            "|29         |Nonprofits & Activism|\n",
            "|30         |Movies               |\n",
            "|31         |Anime/Animation      |\n",
            "|32         |Action/Adventure     |\n",
            "|33         |Classics             |\n",
            "|34         |Comedy               |\n",
            "|35         |Documentary          |\n",
            "|36         |Drama                |\n",
            "|37         |Family               |\n",
            "|38         |Foreign              |\n",
            "|39         |Horror               |\n",
            "|40         |Sci-Fi/Fantasy       |\n",
            "|41         |Thriller             |\n",
            "|42         |Shorts               |\n",
            "|43         |Shows                |\n",
            "|44         |Trailers             |\n",
            "+-----------+---------------------+\n",
            "\n"
          ]
        }
      ]
    },
    {
      "cell_type": "code",
      "source": [
        "%%time\n",
        "pre_categories_score = (\n",
        "    scored_videos\n",
        "    .join(category_only, on=[\"category_id\"], how=\"left\")\n",
        ")\n",
        "pre_categories_score.show()"
      ],
      "metadata": {
        "colab": {
          "base_uri": "https://localhost:8080/"
        },
        "id": "E-UQVe8MhugT",
        "outputId": "8ba5fe91-f6f9-4170-8c84-87fd0887ab6d"
      },
      "execution_count": null,
      "outputs": [
        {
          "output_type": "stream",
          "name": "stdout",
          "text": [
            "+-----------+-----------+--------------------+-------+--------------------+----------------+--------------------+-------------+--------------------+-----+-----+--------------------+\n",
            "|category_id|   video_id|        comment_text|replies|               title|   channel_title|                tags|comment_total|      thumbnail_link| date|score|      category_title|\n",
            "+-----------+-----------+--------------------+-------+--------------------+----------------+--------------------+-------------+--------------------+-----+-----+--------------------+\n",
            "|         28|7DV7TS3XB94|Better than sex e...|      0|Melipona Bee Defi...|explorationfilms|[Melipona, Bee, V...|          457|https://i.ytimg.c...|05.10|50965|Science & Technology|\n",
            "|         28|7DV7TS3XB94|Better than sex e...|      0|Melipona Bee Defi...|explorationfilms|[Melipona, Bee, V...|          456|https://i.ytimg.c...|04.10|50905|Science & Technology|\n",
            "|         28|7DV7TS3XB94|They didn't have ...|      0|Melipona Bee Defi...|explorationfilms|[Melipona, Bee, V...|          457|https://i.ytimg.c...|05.10|50965|Science & Technology|\n",
            "|         28|7DV7TS3XB94|They didn't have ...|      0|Melipona Bee Defi...|explorationfilms|[Melipona, Bee, V...|          456|https://i.ytimg.c...|04.10|50905|Science & Technology|\n",
            "|         28|7DV7TS3XB94|My physics profes...|      0|Melipona Bee Defi...|explorationfilms|[Melipona, Bee, V...|          457|https://i.ytimg.c...|05.10|50965|Science & Technology|\n",
            "|         28|7DV7TS3XB94|My physics profes...|      0|Melipona Bee Defi...|explorationfilms|[Melipona, Bee, V...|          456|https://i.ytimg.c...|04.10|50905|Science & Technology|\n",
            "|         28|7DV7TS3XB94|2008 video is tre...|      0|Melipona Bee Defi...|explorationfilms|[Melipona, Bee, V...|          457|https://i.ytimg.c...|05.10|50965|Science & Technology|\n",
            "|         28|7DV7TS3XB94|2008 video is tre...|      0|Melipona Bee Defi...|explorationfilms|[Melipona, Bee, V...|          456|https://i.ytimg.c...|04.10|50905|Science & Technology|\n",
            "|         28|7DV7TS3XB94|       Right at 1:45|      0|Melipona Bee Defi...|explorationfilms|[Melipona, Bee, V...|          457|https://i.ytimg.c...|05.10|50966|Science & Technology|\n",
            "|         28|7DV7TS3XB94|       Right at 1:45|      0|Melipona Bee Defi...|explorationfilms|[Melipona, Bee, V...|          456|https://i.ytimg.c...|04.10|50906|Science & Technology|\n",
            "|         28|7DV7TS3XB94|Great example of ...|      0|Melipona Bee Defi...|explorationfilms|[Melipona, Bee, V...|          457|https://i.ytimg.c...|05.10|50967|Science & Technology|\n",
            "|         28|7DV7TS3XB94|Great example of ...|      0|Melipona Bee Defi...|explorationfilms|[Melipona, Bee, V...|          456|https://i.ytimg.c...|04.10|50907|Science & Technology|\n",
            "|         28|7DV7TS3XB94|Informações impor...|      0|Melipona Bee Defi...|explorationfilms|[Melipona, Bee, V...|          457|https://i.ytimg.c...|05.10|50965|Science & Technology|\n",
            "|         28|7DV7TS3XB94|Informações impor...|      0|Melipona Bee Defi...|explorationfilms|[Melipona, Bee, V...|          456|https://i.ytimg.c...|04.10|50905|Science & Technology|\n",
            "|         28|7DV7TS3XB94|White mans' incom...|      0|Melipona Bee Defi...|explorationfilms|[Melipona, Bee, V...|          457|https://i.ytimg.c...|05.10|50965|Science & Technology|\n",
            "|         28|7DV7TS3XB94|White mans' incom...|      0|Melipona Bee Defi...|explorationfilms|[Melipona, Bee, V...|          456|https://i.ytimg.c...|04.10|50905|Science & Technology|\n",
            "|         28|7DV7TS3XB94|The native Mexica...|      0|Melipona Bee Defi...|explorationfilms|[Melipona, Bee, V...|          457|https://i.ytimg.c...|05.10|50965|Science & Technology|\n",
            "|         28|7DV7TS3XB94|The native Mexica...|      0|Melipona Bee Defi...|explorationfilms|[Melipona, Bee, V...|          456|https://i.ytimg.c...|04.10|50905|Science & Technology|\n",
            "|         28|7DV7TS3XB94|This is a poor an...|      0|Melipona Bee Defi...|explorationfilms|[Melipona, Bee, V...|          457|https://i.ytimg.c...|05.10|50967|Science & Technology|\n",
            "|         28|7DV7TS3XB94|This is a poor an...|      0|Melipona Bee Defi...|explorationfilms|[Melipona, Bee, V...|          456|https://i.ytimg.c...|04.10|50907|Science & Technology|\n",
            "+-----------+-----------+--------------------+-------+--------------------+----------------+--------------------+-------------+--------------------+-----+-----+--------------------+\n",
            "only showing top 20 rows\n",
            "\n",
            "CPU times: user 52.9 ms, sys: 8.08 ms, total: 60.9 ms\n",
            "Wall time: 8.06 s\n"
          ]
        }
      ]
    },
    {
      "cell_type": "code",
      "source": [
        "%%time\n",
        "pre_categories_score = (\n",
        "    scored_videos\n",
        "    .join(f.broadcast(category_only), on=[\"category_id\"], how=\"left\")\n",
        ")\n",
        "pre_categories_score.show()"
      ],
      "metadata": {
        "colab": {
          "base_uri": "https://localhost:8080/"
        },
        "id": "mrDsO4P_hujD",
        "outputId": "e7a87150-03d2-4e59-cfa8-36c640a6a2b7"
      },
      "execution_count": null,
      "outputs": [
        {
          "output_type": "stream",
          "name": "stdout",
          "text": [
            "+-----------+-----------+--------------------+-------+--------------------+----------------+--------------------+-------------+--------------------+-----+-------+--------------+\n",
            "|category_id|   video_id|        comment_text|replies|               title|   channel_title|                tags|comment_total|      thumbnail_link| date|  score|category_title|\n",
            "+-----------+-----------+--------------------+-------+--------------------+----------------+--------------------+-------------+--------------------+-----+-------+--------------+\n",
            "|         24|XpVt6Z1Gjjo|Logan Paul it's y...|      0|1 YEAR OF VLOGGIN...|Logan Paul Vlogs|[logan paul vlog,...|        39144|https://i.ytimg.c...|19.09|6582645| Entertainment|\n",
            "|         24|XpVt6Z1Gjjo|Logan Paul it's y...|      0|1 YEAR OF VLOGGIN...|Logan Paul Vlogs|[logan paul vlog,...|        39002|https://i.ytimg.c...|18.09|6545005| Entertainment|\n",
            "|         24|XpVt6Z1Gjjo|Logan Paul it's y...|      0|1 YEAR OF VLOGGIN...|Logan Paul Vlogs|[logan paul vlog,...|        38850|https://i.ytimg.c...|17.09|6455786| Entertainment|\n",
            "|         24|XpVt6Z1Gjjo|Logan Paul it's y...|      0|1 YEAR OF VLOGGIN...|Logan Paul Vlogs|[logan paul vlog,...|        39626|https://i.ytimg.c...|16.09|6341256| Entertainment|\n",
            "|         24|XpVt6Z1Gjjo|Logan Paul it's y...|      0|1 YEAR OF VLOGGIN...|Logan Paul Vlogs|[logan paul vlog,...|        54671|https://i.ytimg.c...|15.09|6193530| Entertainment|\n",
            "|         24|XpVt6Z1Gjjo|Logan Paul it's y...|      0|1 YEAR OF VLOGGIN...|Logan Paul Vlogs|[logan paul vlog,...|        52483|https://i.ytimg.c...|14.09|5789879| Entertainment|\n",
            "|         24|XpVt6Z1Gjjo|Logan Paul it's y...|      0|1 YEAR OF VLOGGIN...|Logan Paul Vlogs|[logan paul vlog,...|        46245|https://i.ytimg.c...|13.09|4708155| Entertainment|\n",
            "|         24|XpVt6Z1Gjjo|I've been followi...|      0|1 YEAR OF VLOGGIN...|Logan Paul Vlogs|[logan paul vlog,...|        39144|https://i.ytimg.c...|19.09|6582644| Entertainment|\n",
            "|         24|XpVt6Z1Gjjo|I've been followi...|      0|1 YEAR OF VLOGGIN...|Logan Paul Vlogs|[logan paul vlog,...|        39002|https://i.ytimg.c...|18.09|6545004| Entertainment|\n",
            "|         24|XpVt6Z1Gjjo|I've been followi...|      0|1 YEAR OF VLOGGIN...|Logan Paul Vlogs|[logan paul vlog,...|        38850|https://i.ytimg.c...|17.09|6455785| Entertainment|\n",
            "|         24|XpVt6Z1Gjjo|I've been followi...|      0|1 YEAR OF VLOGGIN...|Logan Paul Vlogs|[logan paul vlog,...|        39626|https://i.ytimg.c...|16.09|6341255| Entertainment|\n",
            "|         24|XpVt6Z1Gjjo|I've been followi...|      0|1 YEAR OF VLOGGIN...|Logan Paul Vlogs|[logan paul vlog,...|        54671|https://i.ytimg.c...|15.09|6193529| Entertainment|\n",
            "|         24|XpVt6Z1Gjjo|I've been followi...|      0|1 YEAR OF VLOGGIN...|Logan Paul Vlogs|[logan paul vlog,...|        52483|https://i.ytimg.c...|14.09|5789878| Entertainment|\n",
            "|         24|XpVt6Z1Gjjo|I've been followi...|      0|1 YEAR OF VLOGGIN...|Logan Paul Vlogs|[logan paul vlog,...|        46245|https://i.ytimg.c...|13.09|4708154| Entertainment|\n",
            "|         24|XpVt6Z1Gjjo|Say hi to Kong an...|      0|1 YEAR OF VLOGGIN...|Logan Paul Vlogs|[logan paul vlog,...|        39144|https://i.ytimg.c...|19.09|6582644| Entertainment|\n",
            "|         24|XpVt6Z1Gjjo|Say hi to Kong an...|      0|1 YEAR OF VLOGGIN...|Logan Paul Vlogs|[logan paul vlog,...|        39002|https://i.ytimg.c...|18.09|6545004| Entertainment|\n",
            "|         24|XpVt6Z1Gjjo|Say hi to Kong an...|      0|1 YEAR OF VLOGGIN...|Logan Paul Vlogs|[logan paul vlog,...|        38850|https://i.ytimg.c...|17.09|6455785| Entertainment|\n",
            "|         24|XpVt6Z1Gjjo|Say hi to Kong an...|      0|1 YEAR OF VLOGGIN...|Logan Paul Vlogs|[logan paul vlog,...|        39626|https://i.ytimg.c...|16.09|6341255| Entertainment|\n",
            "|         24|XpVt6Z1Gjjo|Say hi to Kong an...|      0|1 YEAR OF VLOGGIN...|Logan Paul Vlogs|[logan paul vlog,...|        54671|https://i.ytimg.c...|15.09|6193529| Entertainment|\n",
            "|         24|XpVt6Z1Gjjo|Say hi to Kong an...|      0|1 YEAR OF VLOGGIN...|Logan Paul Vlogs|[logan paul vlog,...|        52483|https://i.ytimg.c...|14.09|5789878| Entertainment|\n",
            "+-----------+-----------+--------------------+-------+--------------------+----------------+--------------------+-------------+--------------------+-----+-------+--------------+\n",
            "only showing top 20 rows\n",
            "\n",
            "CPU times: user 11.4 ms, sys: 4.31 ms, total: 15.7 ms\n",
            "Wall time: 1.93 s\n"
          ]
        }
      ]
    },
    {
      "cell_type": "markdown",
      "source": [
        "После применения broadcast время выполнения сокрасилось примерно в три раза с `6.61 s` по `2.89 s`"
      ],
      "metadata": {
        "id": "Ahl5KhzniNTD"
      }
    },
    {
      "cell_type": "code",
      "source": [
        "import statistics\n",
        "# Функция для расчета медианы из списка сгруппированных значений\n",
        "median_udf = f.udf(lambda x: statistics.median(x) / 1, t.DoubleType())"
      ],
      "metadata": {
        "id": "Q2D6AakqiCxg"
      },
      "execution_count": null,
      "outputs": []
    },
    {
      "cell_type": "code",
      "source": [
        "%%time\n",
        "pre_categories_score.groupBy(f.col(\"category_id\")).agg(median_udf(f.collect_list(f.col('score'))).alias('median')).show()"
      ],
      "metadata": {
        "colab": {
          "base_uri": "https://localhost:8080/"
        },
        "id": "6jQnj-75iC05",
        "outputId": "6a0a6211-b558-4490-b40a-c26ad8230c7c"
      },
      "execution_count": null,
      "outputs": [
        {
          "output_type": "stream",
          "name": "stdout",
          "text": [
            "+-----------+---------+\n",
            "|category_id|   median|\n",
            "+-----------+---------+\n",
            "|         28| 765496.0|\n",
            "|         26| 350734.0|\n",
            "|         27| 285455.0|\n",
            "|         22| 460454.0|\n",
            "|          1| 933881.0|\n",
            "|         20| 307766.0|\n",
            "|         19| 273036.0|\n",
            "|         15| 374138.0|\n",
            "|         43|   8606.0|\n",
            "|         17| 315190.0|\n",
            "|         23|1127601.0|\n",
            "|         10| 308850.0|\n",
            "|         25| 273801.0|\n",
            "|         24| 497289.0|\n",
            "|         29|  66828.0|\n",
            "|          2| 754508.0|\n",
            "+-----------+---------+\n",
            "\n",
            "CPU times: user 205 ms, sys: 37.6 ms, total: 242 ms\n",
            "Wall time: 35.9 s\n"
          ]
        }
      ]
    },
    {
      "cell_type": "code",
      "source": [
        "def pd_median(score: pd.Series) -> float:\n",
        "    return score.median()\n",
        "median = f.pandas_udf(pd_median, returnType=t.DoubleType())"
      ],
      "metadata": {
        "id": "hVYe9ksbiC4A"
      },
      "execution_count": null,
      "outputs": []
    },
    {
      "cell_type": "code",
      "source": [
        "%%time\n",
        "pre_categories_score.groupBy(f.col(\"category_id\")).agg(median(f.col('score')).alias('median')).show()"
      ],
      "metadata": {
        "colab": {
          "base_uri": "https://localhost:8080/"
        },
        "id": "gg3W7eD9iC7R",
        "outputId": "84ace920-6401-42ac-a9e1-a9bd03adb95e"
      },
      "execution_count": null,
      "outputs": [
        {
          "output_type": "stream",
          "name": "stdout",
          "text": [
            "+-----------+---------+\n",
            "|category_id|   median|\n",
            "+-----------+---------+\n",
            "|         28| 765496.0|\n",
            "|         26| 350734.0|\n",
            "|         27| 285455.0|\n",
            "|         22| 460454.0|\n",
            "|          1| 933881.0|\n",
            "|         20| 307766.0|\n",
            "|         19| 273036.0|\n",
            "|         15| 374138.0|\n",
            "|         43|   8606.0|\n",
            "|         17| 315190.0|\n",
            "|         23|1127601.0|\n",
            "|         10| 308850.0|\n",
            "|         25| 273801.0|\n",
            "|         24| 497289.0|\n",
            "|         29|  66828.0|\n",
            "|          2| 754508.0|\n",
            "+-----------+---------+\n",
            "\n",
            "CPU times: user 78.6 ms, sys: 16.2 ms, total: 94.8 ms\n",
            "Wall time: 10.4 s\n"
          ]
        }
      ]
    },
    {
      "cell_type": "markdown",
      "source": [
        "После подсказки, функция заработала. После применения pandas_udf время выполнения сокрасилось в 3,5 раза с `35.9 s` до `10.4 s`"
      ],
      "metadata": {
        "id": "rwTUn326ieYS"
      }
    },
    {
      "cell_type": "code",
      "source": [
        "categories_score = (\n",
        "    pre_categories_score\n",
        "    .groupBy(f.col(\"category_id\"))\n",
        "    .agg(\n",
        "        median_udf(f.collect_list(f.col('score'))).alias('median'),\n",
        "        f.first(\"video_id\").alias('video_id'),\n",
        "        f.first(\"title\").alias('title'),\n",
        "        f.first(\"channel_title\").alias('channel_title'),\n",
        "        f.first(\"thumbnail_link\").alias('thumbnail_link'),\n",
        "    )\n",
        ")\n",
        "categories_score.sort(f.desc(\"median\")).show()"
      ],
      "metadata": {
        "colab": {
          "base_uri": "https://localhost:8080/"
        },
        "id": "41K1M50PiC-B",
        "outputId": "28c63f41-9b3c-45b8-fb27-bb19d368e0e0"
      },
      "execution_count": null,
      "outputs": [
        {
          "output_type": "stream",
          "name": "stdout",
          "text": [
            "+-----------+---------+-----------+------------------------------------+--------------------+--------------------+\n",
            "|category_id|   median|   video_id|                               title|       channel_title|      thumbnail_link|\n",
            "+-----------+---------+-----------+------------------------------------+--------------------+--------------------+\n",
            "|         23|1127601.0|sjlHnJvXdQs|                   iPhone X (parody)|          jacksfilms|https://i.ytimg.c...|\n",
            "|          1| 933881.0|cMKX2tE5Luk|                The Disaster Arti...|                 A24|https://i.ytimg.c...|\n",
            "|         28| 765496.0|WYYvHb03Eog|                Apple iPhone X fi...|           The Verge|https://i.ytimg.c...|\n",
            "|          2| 754508.0|NzRuDD0iYC0|                Last Week Tonight...|        DeathByPixel|https://i.ytimg.c...|\n",
            "|         24| 497289.0|XpVt6Z1Gjjo|                1 YEAR OF VLOGGIN...|    Logan Paul Vlogs|https://i.ytimg.c...|\n",
            "|         22| 460454.0|cLdxuaxaQwc|                         My Response|           PewDiePie|https://i.ytimg.c...|\n",
            "|         15| 374138.0|Vjc459T6wX8|更なるフィット感を追求するねこ。-...|            mugumogu|https://i.ytimg.c...|\n",
            "|         26| 350734.0|w8fAellnPns|                Juicy Chicken Bre...| You Suck At Cooking|https://i.ytimg.c...|\n",
            "|         17| 315190.0|EVp4-qjWVJE|                Chargers vs. Bron...|                 NFL|https://i.ytimg.c...|\n",
            "|         10| 308850.0|-Ifnaxi2LQg|                Fergie - You Alre...|          FergieVEVO|https://i.ytimg.c...|\n",
            "|         20| 307766.0|bAon04ZJhHE|                Season 21 Preview...|  South Park Studios|https://i.ytimg.c...|\n",
            "|         27| 285455.0|ql0Op1VcELw|                What's Actually t...|Wendover Productions|https://i.ytimg.c...|\n",
            "|         25| 273801.0|B7YaMkCl3XA|                Hurricane Irma de...|  Al Jazeera English|https://i.ytimg.c...|\n",
            "|         19| 273036.0|wGQtrwey-TI|                SALTED EGG CRAB! ...|   Strictly Dumpling|https://i.ytimg.c...|\n",
            "|         29|  66828.0|CzJPjtyEZjE|                Snoop Dogg Raps W...|                AARP|https://i.ytimg.c...|\n",
            "|         43|   8606.0|5mdk5oz6l3w|                Pixel 2: Squeeze ...|                CNET|https://i.ytimg.c...|\n",
            "+-----------+---------+-----------+------------------------------------+--------------------+--------------------+\n",
            "\n"
          ]
        }
      ]
    },
    {
      "cell_type": "code",
      "source": [
        "scored_videos.select(\"video_id\", \"tags\").distinct().show()"
      ],
      "metadata": {
        "colab": {
          "base_uri": "https://localhost:8080/"
        },
        "id": "9cxttnX2iDBJ",
        "outputId": "9f620620-3de2-4907-f227-535f28df6f56"
      },
      "execution_count": null,
      "outputs": [
        {
          "output_type": "stream",
          "name": "stdout",
          "text": [
            "+-----------+--------------------+\n",
            "|   video_id|                tags|\n",
            "+-----------+--------------------+\n",
            "|Cz3Coxi9D3E|[Jacob, Banks, Un...|\n",
            "|JvkLPE8efME|[DESI PERKINS, TH...|\n",
            "|LTsSGSi9mqo|[Gadgets, Kitchen...|\n",
            "|MNst7laHZGg|[Morning Joe, Joe...|\n",
            "|j9UGpBZz7WU|[catalonia, catal...|\n",
            "|thD6TNUoyIk|[andrew, huang, a...|\n",
            "|VH1RwkrHPvA|[Canelés, cannele...|\n",
            "|ql0Op1VcELw|[plane, of, the, ...|\n",
            "|3hq2c9vdfls|[cal, berkeley, g...|\n",
            "|q9o_VjdugHw|            [[none]]|\n",
            "|I_JtJHJ4384|       [madison.com]|\n",
            "|Q3Rq-irFn1w|[beauty, how to, ...|\n",
            "|an5vV5aw74I|[screen junkies, ...|\n",
            "|aVsOXRgjeeU|[Pitch Perfect, m...|\n",
            "|zWxo4uZW-1I|[makeup, tutorial...|\n",
            "|HUUsEgAe8x4|[venomous, toxic,...|\n",
            "|GWKI-CoCCTU|[nile wilson, nil...|\n",
            "|Q0CbN8sfihY|[star wars, the l...|\n",
            "|A-fofQ9VpPQ|[Netflix, Trailer...|\n",
            "|MMEgnbIVWXc|[Frankie Muniz, W...|\n",
            "+-----------+--------------------+\n",
            "only showing top 20 rows\n",
            "\n"
          ]
        }
      ]
    },
    {
      "cell_type": "code",
      "source": [
        "popular_tags = (\n",
        "    scored_videos\n",
        "    .select(\"video_id\", \"tags\")\n",
        "    .withColumn(\"tag\", f.explode(f.col(\"tags\")))\n",
        "    .groupBy(\"video_id\", \"tag\")\n",
        "    .count()\n",
        ")"
      ],
      "metadata": {
        "id": "faS8sU29iDDp"
      },
      "execution_count": null,
      "outputs": []
    },
    {
      "cell_type": "code",
      "source": [
        "popular_tags.sort(f.desc(\"count\")).show()"
      ],
      "metadata": {
        "colab": {
          "base_uri": "https://localhost:8080/"
        },
        "id": "B3XqX7gfi5cT",
        "outputId": "74eb5a1b-7071-493a-d07b-2e9ce2a54501"
      },
      "execution_count": null,
      "outputs": [
        {
          "output_type": "stream",
          "name": "stdout",
          "text": [
            "+-----------+--------------------+-----+\n",
            "|   video_id|                 tag|count|\n",
            "+-----------+--------------------+-----+\n",
            "|CsdzflTXBVQ|     Awkward Puppets| 8400|\n",
            "|yIq-N7m0upU|        Anwar Jibawi| 7200|\n",
            "|4X6a3G_0HjY|  Entertainment News| 5600|\n",
            "|XpVt6Z1Gjjo|              logang| 5600|\n",
            "|sjlHnJvXdQs|            iphone x| 5600|\n",
            "|XpVt6Z1Gjjo|     youtube history| 5600|\n",
            "|XpVt6Z1Gjjo|     logan paul vlog| 5600|\n",
            "|XpVt6Z1Gjjo|logan paul 1 year...| 5600|\n",
            "|WYYvHb03Eog|      iPhone X specs| 5600|\n",
            "|XpVt6Z1Gjjo|       logang 4 life| 5600|\n",
            "|4X6a3G_0HjY| bella hadid fashion| 5600|\n",
            "|4X6a3G_0HjY|     bella hadid hot| 5600|\n",
            "|4X6a3G_0HjY|       Entertainment| 5600|\n",
            "|WYYvHb03Eog|iPhone X release ...| 5600|\n",
            "|WYYvHb03Eog|         iphone 2017| 5600|\n",
            "|XpVt6Z1Gjjo|          10M plaque| 5600|\n",
            "|4X6a3G_0HjY|bella hadid insta...| 5600|\n",
            "|XpVt6Z1Gjjo|  logan paul youtube| 5600|\n",
            "|4X6a3G_0HjY|                 TMZ| 5600|\n",
            "|XpVt6Z1Gjjo|              comedy| 5600|\n",
            "+-----------+--------------------+-----+\n",
            "only showing top 20 rows\n",
            "\n"
          ]
        }
      ]
    },
    {
      "cell_type": "code",
      "source": [
        "cat_df = (\n",
        "    joined_df\n",
        "    .where(f.array_contains(f.col(\"tags\"), \"cat\"))\n",
        "    .select(\"video_id\", \"comment_text\", \"comment_likes\")\n",
        "    .groupBy(\"video_id\", \"comment_text\")\n",
        "    .agg(f.max(\"comment_likes\").alias(\"max_likes\"))\n",
        "    .sort(f.desc(\"max_likes\"))\n",
        ")"
      ],
      "metadata": {
        "id": "cAzXBZWDi5fn"
      },
      "execution_count": null,
      "outputs": []
    },
    {
      "cell_type": "code",
      "source": [
        "cat_df.show(5, False)"
      ],
      "metadata": {
        "colab": {
          "base_uri": "https://localhost:8080/"
        },
        "id": "rVGpa7F7i5iv",
        "outputId": "3b5cb3d5-9c7f-4491-a619-8cf7773acb75"
      },
      "execution_count": null,
      "outputs": [
        {
          "output_type": "stream",
          "name": "stdout",
          "text": [
            "+-----------+------------------------------------------------------------------------------------------------------+---------+\n",
            "|video_id   |comment_text                                                                                          |max_likes|\n",
            "+-----------+------------------------------------------------------------------------------------------------------+---------+\n",
            "|-1fzGnFwz9M|I make interesting cartoons and I need your help! Go to the channel, rate my work!                    |839      |\n",
            "|tp9aQXDFHbY|Make sure to check back next Friday as we are launching our brand new animated HALLOWEEN special! 🐱🕷|304      |\n",
            "|tp9aQXDFHbY|1:51 so your nuts are your most prized possession?                                                    |100      |\n",
            "|tp9aQXDFHbY|If Simon will be make animation movie of Simons Cat adventures, I’ll go cinemas to watch it 😻        |37       |\n",
            "|Vjc459T6wX8|How does Mugumogu not collapse in a heap of laughter?!! Maru's liquified form is hilarious!           |33       |\n",
            "+-----------+------------------------------------------------------------------------------------------------------+---------+\n",
            "only showing top 5 rows\n",
            "\n"
          ]
        }
      ]
    },
    {
      "cell_type": "code",
      "source": [
        "cat_df.count()"
      ],
      "metadata": {
        "colab": {
          "base_uri": "https://localhost:8080/"
        },
        "id": "vDOXb5s1r2eH",
        "outputId": "d68806da-d24d-4bbb-aa2d-37289423b991"
      },
      "execution_count": null,
      "outputs": [
        {
          "output_type": "execute_result",
          "data": {
            "text/plain": [
              "1737"
            ]
          },
          "metadata": {},
          "execution_count": 55
        }
      ]
    },
    {
      "cell_type": "code",
      "source": [
        "import math\n",
        "import mmh3\n",
        "from bitarray import bitarray\n",
        "\n",
        "\n",
        "class BloomFilter(object):\n",
        "\n",
        "    '''\n",
        "    Class for Bloom filter, using murmur3 hash function\n",
        "    '''\n",
        "\n",
        "    def __init__(self, items_count, fp_prob):\n",
        "        '''\n",
        "        items_count : int\n",
        "            Number of items expected to be stored in bloom filter\n",
        "        fp_prob : float\n",
        "            False Positive probability in decimal\n",
        "        '''\n",
        "        self.items_count = items_count\n",
        "\n",
        "        # False possible probability in decimal\n",
        "        self.fp_prob = fp_prob\n",
        "\n",
        "        # Size of bit array to use\n",
        "        self.size = self.get_size(items_count, fp_prob)\n",
        "\n",
        "        # number of hash functions to use\n",
        "        self.hash_count = self.get_hash_count(self.size, items_count)\n",
        "\n",
        "        # Bit array of given size\n",
        "        self.bit_array = bitarray(self.size)\n",
        "\n",
        "        # initialize all bits as 0\n",
        "        self.bit_array.setall(0)\n",
        "\n",
        "    def add(self, item):\n",
        "        '''\n",
        "        Add an item in the filter\n",
        "        '''\n",
        "        digests = []\n",
        "        for i in range(self.hash_count):\n",
        "\n",
        "            # create digest for given item.\n",
        "            # i work as seed to mmh3.hash() function\n",
        "            # With different seed, digest created is different\n",
        "            digest = mmh3.hash(item, i) % self.size\n",
        "            digests.append(digest)\n",
        "\n",
        "            # set the bit True in bit_array\n",
        "            self.bit_array[digest] = True\n",
        "\n",
        "    def union(self, other):\n",
        "        \"\"\" Calculates the union of the two underlying bitarrays and returns\n",
        "        a new bloom filter object.\"\"\"\n",
        "        new_bloom = self.copy()\n",
        "        new_bloom.bit_array = new_bloom.bit_array | other.bit_array\n",
        "        return new_bloom\n",
        "\n",
        "    def check(self, item):\n",
        "        '''\n",
        "        Check for existence of an item in filter\n",
        "        '''\n",
        "        for i in range(self.hash_count):\n",
        "            digest = mmh3.hash(item, i) % self.size\n",
        "            if self.bit_array[digest] == False:\n",
        "\n",
        "                # if any of bit is False then,its not present\n",
        "                # in filter\n",
        "                # else there is probability that it exist\n",
        "                return False\n",
        "        return True\n",
        "\n",
        "    def copy(self):\n",
        "        \"\"\"Return a copy of this bloom filter.\n",
        "        \"\"\"\n",
        "        new_filter = BloomFilter(self.items_count, self.fp_prob)\n",
        "        new_filter.bit_array = self.bit_array.copy()\n",
        "        return new_filter\n",
        "\n",
        "    def set_bit_array(self, bit_array):\n",
        "        self.bit_array = bit_array\n",
        "\n",
        "    @classmethod\n",
        "    def get_size(self, n, p):\n",
        "        '''\n",
        "        Return the size of bit array(m) to used using\n",
        "        following formula\n",
        "        m = -(n * lg(p)) / (lg(2)^2)\n",
        "        n : int\n",
        "            number of items expected to be stored in filter\n",
        "        p : float\n",
        "            False Positive probability in decimal\n",
        "        '''\n",
        "        m = -(n * math.log(p))/(math.log(2)**2)\n",
        "        return int(m)\n",
        "\n",
        "    @classmethod\n",
        "    def get_hash_count(self, m, n):\n",
        "        '''\n",
        "        Return the hash function(k) to be used using\n",
        "        following formula\n",
        "        k = (m/n) * lg(2)\n",
        "\n",
        "        m : int\n",
        "            size of bit array\n",
        "        n : int\n",
        "            number of items expected to be stored in filter\n",
        "        '''\n",
        "        k = (m/n) * math.log(2)\n",
        "        return int(k)"
      ],
      "metadata": {
        "id": "Jolrmyv3i5la"
      },
      "execution_count": null,
      "outputs": []
    },
    {
      "cell_type": "code",
      "source": [
        "from random import shuffle\n",
        "\n",
        "n = 20 #no of items to add\n",
        "p = 0.05 #false positive probability\n",
        "\n",
        "bloomf1 = BloomFilter(n,p)\n",
        "bloomf2 = BloomFilter(n,p)\n",
        "\n",
        "# words to be added\n",
        "word_present1 = ['abound','abounds','abundance','abundant','accessible',\n",
        "                'bloom','blossom','bolster','bonny','bonus','bonuses']\n",
        "\n",
        "# words to be added\n",
        "word_present2 = ['coherent','cohesive','colorful','comely','comfort',\n",
        "                'gems','generosity','generous','generously','genial']\n",
        "\n",
        "# word not added\n",
        "word_absent = ['bluff','cheater','hate','war','humanity',\n",
        "               'racism','hurt','nuke','gloomy','facebook',\n",
        "               'geeksforgeeks','twitter']\n",
        "\n",
        "for item in word_present1:\n",
        "    bloomf1.add(item)\n",
        "\n",
        "for item in word_present2:\n",
        "    bloomf2.add(item)\n",
        "\n",
        "bloomf = bloomf1.union(bloomf2)\n",
        "\n",
        "shuffle(word_present1)\n",
        "shuffle(word_present2)\n",
        "shuffle(word_absent)\n",
        "\n",
        "test_words = word_present1 + word_present2 + word_absent\n",
        "shuffle(test_words)\n",
        "for word in test_words:\n",
        "    if bloomf.check(word):\n",
        "        if word in word_absent:\n",
        "            print(\"'{}' is a false positive!\".format(word))\n",
        "        else:\n",
        "            print(\"'{}' is probably present!\".format(word))\n",
        "    else:\n",
        "        print(\"'{}' is definitely not present!\".format(word))"
      ],
      "metadata": {
        "colab": {
          "base_uri": "https://localhost:8080/"
        },
        "id": "TYRCbugIi5oS",
        "outputId": "f9b4818c-6445-4975-c694-9d6e7a1f0704"
      },
      "execution_count": null,
      "outputs": [
        {
          "output_type": "stream",
          "name": "stdout",
          "text": [
            "'bonuses' is probably present!\n",
            "'war' is definitely not present!\n",
            "'geeksforgeeks' is definitely not present!\n",
            "'bonny' is probably present!\n",
            "'abundance' is probably present!\n",
            "'blossom' is probably present!\n",
            "'hurt' is definitely not present!\n",
            "'bloom' is probably present!\n",
            "'humanity' is a false positive!\n",
            "'comfort' is probably present!\n",
            "'bonus' is probably present!\n",
            "'abound' is probably present!\n",
            "'bluff' is definitely not present!\n",
            "'genial' is probably present!\n",
            "'racism' is definitely not present!\n",
            "'generosity' is probably present!\n",
            "'comely' is probably present!\n",
            "'colorful' is probably present!\n",
            "'bolster' is probably present!\n",
            "'abundant' is probably present!\n",
            "'generous' is probably present!\n",
            "'cohesive' is probably present!\n",
            "'nuke' is definitely not present!\n",
            "'cheater' is definitely not present!\n",
            "'coherent' is probably present!\n",
            "'hate' is definitely not present!\n",
            "'facebook' is definitely not present!\n",
            "'generously' is probably present!\n",
            "'gems' is probably present!\n",
            "'twitter' is a false positive!\n",
            "'accessible' is probably present!\n",
            "'abounds' is probably present!\n",
            "'gloomy' is definitely not present!\n"
          ]
        }
      ]
    },
    {
      "cell_type": "code",
      "source": [
        "sample = joined_df.select(\"video_id\", \"comment_text\", \"comment_likes\", \"tags\").distinct().where(f.col(\"video_id\").isin([\"XpVt6Z1Gjjo\",\"WYYvHb03Eog\",\"cMKX2tE5Luk\",\"_ANP3HR1jsM\"]))"
      ],
      "metadata": {
        "id": "rg9okEKusBi-"
      },
      "execution_count": null,
      "outputs": []
    },
    {
      "cell_type": "code",
      "source": [
        "videos_tg.select(\"video_id\", \"tags\").where(f.array_contains(f.col(\"tags\"), \"cat\")).count()"
      ],
      "metadata": {
        "colab": {
          "base_uri": "https://localhost:8080/"
        },
        "id": "xoJqxq81EOjH",
        "outputId": "63ebc2b7-9077-46ca-88e5-824a064d0c03"
      },
      "execution_count": null,
      "outputs": [
        {
          "output_type": "execute_result",
          "data": {
            "text/plain": [
              "48"
            ]
          },
          "metadata": {},
          "execution_count": 68
        }
      ]
    },
    {
      "cell_type": "code",
      "source": [
        "cat_only_df = videos_tg.select(\"video_id\", \"tags\").where(f.array_contains(f.col(\"tags\"), \"cat\"))"
      ],
      "metadata": {
        "id": "KEl1mu3qHXLt"
      },
      "execution_count": null,
      "outputs": []
    },
    {
      "cell_type": "code",
      "source": [
        "# Создаем фильтр\n",
        "\n",
        "filterSize = 2945276\n",
        "prob = 0.05\n",
        "\n",
        "def fill_bloom_filter(bf, items):\n",
        "    for i in items:\n",
        "        bf.add(str(i[0]))\n",
        "    return bf\n",
        "\n",
        "bloom_filter = BloomFilter(filterSize, prob)\n",
        "\n",
        "general_bit_array = cat_only_df.select(f.col('video_id')).rdd \\\n",
        "    .mapPartitions(lambda p: [fill_bloom_filter(BloomFilter(filterSize, prob), p).bit_array]) \\\n",
        "    .reduce(lambda a, b: a.bit_array | b.bit_array)  # так падает ошибка что у a/b нет .bit_array     .reduce(lambda a, b: a | b)\n",
        "bloom_filter.set_bit_array(general_bit_array)\n",
        "\n",
        "maybe_in_bf = f.udf(lambda tags: bloom_filter.check(str(tags)))"
      ],
      "metadata": {
        "id": "OKnOp7S2i5rK"
      },
      "execution_count": null,
      "outputs": []
    },
    {
      "cell_type": "code",
      "source": [
        "# Используем фильтр\n",
        "blum_cat_df = (\n",
        "    comments\n",
        "    .filter(maybe_in_bf(f.col('video_id')) == True)\n",
        "    .join(videos_tg, on=['video_id'], how=\"left\")\n",
        "    .select(\"video_id\", \"comment_text\", comments.likes)\n",
        "    .groupBy(\"video_id\", \"comment_text\")\n",
        "    .agg(f.max(\"likes\").alias(\"max_likes\"))\n",
        "    .sort(f.desc(\"max_likes\"))\n",
        ")"
      ],
      "metadata": {
        "id": "cStASROli5tz"
      },
      "execution_count": null,
      "outputs": []
    },
    {
      "cell_type": "code",
      "source": [
        "blum_cat_df.count()"
      ],
      "metadata": {
        "colab": {
          "base_uri": "https://localhost:8080/"
        },
        "id": "ugv20yjeUtDf",
        "outputId": "4b0d2fad-6576-4f69-e707-aef05986d6bf"
      },
      "execution_count": null,
      "outputs": [
        {
          "output_type": "execute_result",
          "data": {
            "text/plain": [
              "1737"
            ]
          },
          "metadata": {},
          "execution_count": 86
        }
      ]
    },
    {
      "cell_type": "code",
      "source": [
        "blum_cat_df.show(5, False)"
      ],
      "metadata": {
        "colab": {
          "base_uri": "https://localhost:8080/"
        },
        "id": "ZLssE8BbwPQ7",
        "outputId": "3bf90ce5-b665-4ded-e91a-d5681974ffbc"
      },
      "execution_count": null,
      "outputs": [
        {
          "output_type": "stream",
          "name": "stdout",
          "text": [
            "+-----------+------------------------------------------------------------------------------------------------------+---------+\n",
            "|video_id   |comment_text                                                                                          |max_likes|\n",
            "+-----------+------------------------------------------------------------------------------------------------------+---------+\n",
            "|-1fzGnFwz9M|I make interesting cartoons and I need your help! Go to the channel, rate my work!                    |839      |\n",
            "|tp9aQXDFHbY|Make sure to check back next Friday as we are launching our brand new animated HALLOWEEN special! 🐱🕷|304      |\n",
            "|tp9aQXDFHbY|1:51 so your nuts are your most prized possession?                                                    |100      |\n",
            "|tp9aQXDFHbY|If Simon will be make animation movie of Simons Cat adventures, I’ll go cinemas to watch it 😻        |37       |\n",
            "|Vjc459T6wX8|How does Mugumogu not collapse in a heap of laughter?!! Maru's liquified form is hilarious!           |33       |\n",
            "+-----------+------------------------------------------------------------------------------------------------------+---------+\n",
            "only showing top 5 rows\n",
            "\n"
          ]
        }
      ]
    }
  ]
}
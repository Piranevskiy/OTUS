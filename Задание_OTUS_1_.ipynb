{
  "nbformat": 4,
  "nbformat_minor": 0,
  "metadata": {
    "colab": {
      "provenance": []
    },
    "kernelspec": {
      "name": "python3",
      "display_name": "Python 3"
    },
    "language_info": {
      "name": "python"
    }
  },
  "cells": [
    {
      "cell_type": "code",
      "metadata": {
        "id": "VHHKEJQSVn9G",
        "colab": {
          "base_uri": "https://localhost:8080/"
        },
        "outputId": "e6cf6470-fdcb-41eb-ae73-6ba6b0f87bf4"
      },
      "source": [
        "\n",
        "!pip install pyspark==3.3.0\n"
      ],
      "execution_count": 1,
      "outputs": [
        {
          "output_type": "stream",
          "name": "stdout",
          "text": [
            "Requirement already satisfied: pyspark==3.3.0 in /usr/local/lib/python3.10/dist-packages (3.3.0)\n",
            "Requirement already satisfied: py4j==0.10.9.5 in /usr/local/lib/python3.10/dist-packages (from pyspark==3.3.0) (0.10.9.5)\n"
          ]
        }
      ]
    },
    {
      "cell_type": "code",
      "source": [
        "!pip install --no-cache-dir mmh3 bitarray"
      ],
      "metadata": {
        "colab": {
          "base_uri": "https://localhost:8080/"
        },
        "id": "L97sWzFCUUOs",
        "outputId": "cf581d08-204b-40db-fb3d-25ed5e7fef45"
      },
      "execution_count": 2,
      "outputs": [
        {
          "output_type": "stream",
          "name": "stdout",
          "text": [
            "Requirement already satisfied: mmh3 in /usr/local/lib/python3.10/dist-packages (4.0.1)\n",
            "Requirement already satisfied: bitarray in /usr/local/lib/python3.10/dist-packages (2.9.2)\n"
          ]
        }
      ]
    },
    {
      "cell_type": "code",
      "source": [
        "from pyspark.sql import SparkSession\n",
        "from pyspark.sql import DataFrame\n",
        "from pyspark.sql import functions as f\n",
        "from pyspark.sql import types as t\n",
        "from pyspark.sql.window import Window\n",
        "from pyspark.sql.column import _to_java_column\n",
        "from pyspark.sql.column import _to_seq\n",
        "# from pyspark.sql.functions import PandasUDFType, pandas_udf, UserDefinedFunction\n",
        "\n",
        "import timeit\n",
        "import pandas as pd\n",
        "from typing import Any, Dict, List, Optional\n",
        "\n"
      ],
      "metadata": {
        "id": "XVtv6QW4T39Y"
      },
      "execution_count": 3,
      "outputs": []
    },
    {
      "cell_type": "code",
      "source": [
        "spark = (\n",
        "    SparkSession.builder.master(\"local[*]\")\n",
        "    .appName(\"TEST-R\")\n",
        "   # .config(\"spark.yarn.queue\", \"data_science\")#  data_science -> user\n",
        "    .config(\"spark.driver.cores\", \"4\")\n",
        "    .config(\"spark.driver.memory\", \"6g\")\n",
        "    .config(\"spark.executor.cores\", \"4\")\n",
        "    .config(\"spark.executor.memory\", \"10g\")\n",
        "    .config(\"spark.default.parallelism\", \"10\")\n",
        "    .config(\"spark.dynamicAllocation.enabled\", \"true\")\n",
        "    .config(\"spark.dynamicAllocation.minExecutors\", \"1\")\n",
        "    .config(\"spark.dynamicAllocation.maxExecutors\", \"10\")\n",
        "    .config(\"spark.shuffle.service.enabled\", \"true\")\n",
        "    .config('spark.sql.autoBroadcastJoinThreshold', -1)\n",
        "    .config('spark.sql.adaptive.enabled', 'false')\n",
        "    .config(\"spark.jars\", \"/content/super_udf_lib.jar\")\n",
        "    .config(\"spark.port.maxRetries\", \"100000\")\n",
        "    .enableHiveSupport()\n",
        "    .getOrCreate()\n",
        ")"
      ],
      "metadata": {
        "id": "ZbbO7xcQUzOr"
      },
      "execution_count": 4,
      "outputs": []
    },
    {
      "cell_type": "code",
      "source": [
        "spark"
      ],
      "metadata": {
        "colab": {
          "base_uri": "https://localhost:8080/",
          "height": 219
        },
        "id": "c83v1P10VWnt",
        "outputId": "67b0619c-d94d-49fe-b2af-1e0a537bde76"
      },
      "execution_count": 5,
      "outputs": [
        {
          "output_type": "execute_result",
          "data": {
            "text/plain": [
              "<pyspark.sql.session.SparkSession at 0x7955ee2c88e0>"
            ],
            "text/html": [
              "\n",
              "            <div>\n",
              "                <p><b>SparkSession - hive</b></p>\n",
              "                \n",
              "        <div>\n",
              "            <p><b>SparkContext</b></p>\n",
              "\n",
              "            <p><a href=\"http://7a1d5edaeedf:4040\">Spark UI</a></p>\n",
              "\n",
              "            <dl>\n",
              "              <dt>Version</dt>\n",
              "                <dd><code>v3.3.0</code></dd>\n",
              "              <dt>Master</dt>\n",
              "                <dd><code>local[*]</code></dd>\n",
              "              <dt>AppName</dt>\n",
              "                <dd><code>TEST-R</code></dd>\n",
              "            </dl>\n",
              "        </div>\n",
              "        \n",
              "            </div>\n",
              "        "
            ]
          },
          "metadata": {},
          "execution_count": 5
        }
      ]
    },
    {
      "cell_type": "code",
      "source": [
        "sc = spark.sparkContext"
      ],
      "metadata": {
        "id": "JYpcBvSRVpWz"
      },
      "execution_count": 6,
      "outputs": []
    },
    {
      "cell_type": "code",
      "source": [
        "_scala_func = sc._jvm.CustomUDFs.splitTagsUDF()"
      ],
      "metadata": {
        "id": "UDI-aNNhaKxg"
      },
      "execution_count": 7,
      "outputs": []
    },
    {
      "cell_type": "code",
      "source": [
        "def scl_split(col: f.Column):\n",
        "    _scala_func = sc._jvm.CustomUDFs.splitTagsUDF()\n",
        "    return f.Column(_scala_func.apply(_to_seq(sc, [col], _to_java_column)))"
      ],
      "metadata": {
        "id": "OUIbCh5WVz_d"
      },
      "execution_count": 8,
      "outputs": []
    },
    {
      "cell_type": "code",
      "source": [
        "videos = spark.read.option('header', 'true').option(\"inferSchema\", \"true\").csv('./USvideos.csv')"
      ],
      "metadata": {
        "id": "ftq3lQ-gYc6p"
      },
      "execution_count": 9,
      "outputs": []
    },
    {
      "cell_type": "code",
      "source": [
        "%%time\n",
        "videos.withColumn(\"new_tags\", scl_split(f.col(\"tags\"))).show(2)"
      ],
      "metadata": {
        "colab": {
          "base_uri": "https://localhost:8080/"
        },
        "id": "v2fyOy3wYdEB",
        "outputId": "f5501c05-9eeb-41f3-e74e-24a0320cf359"
      },
      "execution_count": 10,
      "outputs": [
        {
          "output_type": "stream",
          "name": "stdout",
          "text": [
            "+-----------+--------------------+----------------+-----------+--------------------+-------+------+--------+-------------+--------------------+-----+--------------------+\n",
            "|   video_id|               title|   channel_title|category_id|                tags|  views| likes|dislikes|comment_total|      thumbnail_link| date|            new_tags|\n",
            "+-----------+--------------------+----------------+-----------+--------------------+-------+------+--------+-------------+--------------------+-----+--------------------+\n",
            "|XpVt6Z1Gjjo|1 YEAR OF VLOGGIN...|Logan Paul Vlogs|         24|logan paul vlog|l...|4394029|320053|    5931|        46245|https://i.ytimg.c...|13.09|[logan paul vlog,...|\n",
            "|K4wEI5zhHB0|iPhone X — Introd...|           Apple|         28|Apple|iPhone 10|i...|7860119|185853|   26679|            0|https://i.ytimg.c...|13.09|[Apple, iPhone 10...|\n",
            "+-----------+--------------------+----------------+-----------+--------------------+-------+------+--------+-------------+--------------------+-----+--------------------+\n",
            "only showing top 2 rows\n",
            "\n",
            "CPU times: user 15.3 ms, sys: 1.73 ms, total: 17 ms\n",
            "Wall time: 2.06 s\n"
          ]
        }
      ]
    },
    {
      "cell_type": "code",
      "source": [
        "def py_split(tag: pd.Series) -> pd.Series:\n",
        "    return tag.str.split(pat=\"|\")\n",
        "split = f.pandas_udf(py_split, returnType=t.ArrayType(t.StringType()))"
      ],
      "metadata": {
        "id": "xtiYK4sUYdM5"
      },
      "execution_count": 11,
      "outputs": []
    },
    {
      "cell_type": "code",
      "source": [
        "%%time\n",
        "videos.withColumn(\"new_tags\", split(f.col(\"tags\"))).show(2)"
      ],
      "metadata": {
        "colab": {
          "base_uri": "https://localhost:8080/"
        },
        "id": "d7_nANatYdP5",
        "outputId": "c0fc1a09-fd0a-43e5-8944-8f8c32844e38"
      },
      "execution_count": 12,
      "outputs": [
        {
          "output_type": "stream",
          "name": "stdout",
          "text": [
            "+-----------+--------------------+----------------+-----------+--------------------+-------+------+--------+-------------+--------------------+-----+--------------------+\n",
            "|   video_id|               title|   channel_title|category_id|                tags|  views| likes|dislikes|comment_total|      thumbnail_link| date|            new_tags|\n",
            "+-----------+--------------------+----------------+-----------+--------------------+-------+------+--------+-------------+--------------------+-----+--------------------+\n",
            "|XpVt6Z1Gjjo|1 YEAR OF VLOGGIN...|Logan Paul Vlogs|         24|logan paul vlog|l...|4394029|320053|    5931|        46245|https://i.ytimg.c...|13.09|[logan paul vlog,...|\n",
            "|K4wEI5zhHB0|iPhone X — Introd...|           Apple|         28|Apple|iPhone 10|i...|7860119|185853|   26679|            0|https://i.ytimg.c...|13.09|[Apple, iPhone 10...|\n",
            "+-----------+--------------------+----------------+-----------+--------------------+-------+------+--------+-------------+--------------------+-----+--------------------+\n",
            "only showing top 2 rows\n",
            "\n",
            "CPU times: user 37.2 ms, sys: 5.86 ms, total: 43.1 ms\n",
            "Wall time: 4.25 s\n"
          ]
        }
      ]
    },
    {
      "cell_type": "markdown",
      "source": [
        "Из двух вариантов, побеждает фанкция написанная на scala.\n",
        "\n",
        "Производительность выше в три раза `Wall time: 457 ms` -> `Wall time: 1.4 s`"
      ],
      "metadata": {
        "id": "g66-Q9Gnffyk"
      }
    },
    {
      "cell_type": "code",
      "source": [
        "videos_tg = videos.withColumn(\"tags\", scl_split(f.col(\"tags\")))\n",
        "#.cache() -> Cached Partitions 1 Size in Memory 3.8 MiB"
      ],
      "metadata": {
        "id": "DlMtmVBMYdSx"
      },
      "execution_count": 13,
      "outputs": []
    },
    {
      "cell_type": "code",
      "source": [
        "videos_tg.printSchema()"
      ],
      "metadata": {
        "colab": {
          "base_uri": "https://localhost:8080/"
        },
        "id": "iH5O_Q-jYdV6",
        "outputId": "cbb5faf0-b847-4680-cb40-dfe910bfdae2"
      },
      "execution_count": 14,
      "outputs": [
        {
          "output_type": "stream",
          "name": "stdout",
          "text": [
            "root\n",
            " |-- video_id: string (nullable = true)\n",
            " |-- title: string (nullable = true)\n",
            " |-- channel_title: string (nullable = true)\n",
            " |-- category_id: integer (nullable = true)\n",
            " |-- tags: array (nullable = true)\n",
            " |    |-- element: string (containsNull = true)\n",
            " |-- views: integer (nullable = true)\n",
            " |-- likes: integer (nullable = true)\n",
            " |-- dislikes: integer (nullable = true)\n",
            " |-- comment_total: integer (nullable = true)\n",
            " |-- thumbnail_link: string (nullable = true)\n",
            " |-- date: string (nullable = true)\n",
            "\n"
          ]
        }
      ]
    },
    {
      "cell_type": "code",
      "source": [
        "videos_tg.count()"
      ],
      "metadata": {
        "colab": {
          "base_uri": "https://localhost:8080/"
        },
        "id": "2N6lOFFoYdYx",
        "outputId": "7fc215e8-1b5c-40d9-cbaf-4a0d4f1d7131"
      },
      "execution_count": 15,
      "outputs": [
        {
          "output_type": "execute_result",
          "data": {
            "text/plain": [
              "7998"
            ]
          },
          "metadata": {},
          "execution_count": 15
        }
      ]
    },
    {
      "cell_type": "code",
      "source": [
        "comments_schema = (\n",
        "    t.StructType([\n",
        "    t.StructField(\"video_id\", t.StringType(), True),\n",
        "    t.StructField(\"comment_text\", t.StringType(), True),\n",
        "    t.StructField(\"likes\", t.IntegerType(), True),\n",
        "    t.StructField(\"replies\", t.IntegerType(), True)])\n",
        ")\n",
        "comments = spark.read.option('header', 'true').option(\"mode\", \"DROPMALFORMED\").schema(comments_schema).csv('./UScomments.csv')\n",
        "#.cache() -> Cached Partitions 10 Size in Memory 60.0 MiB"
      ],
      "metadata": {
        "id": "gyRosJcXYdbh"
      },
      "execution_count": 51,
      "outputs": []
    },
    {
      "cell_type": "code",
      "source": [
        "comments.sort(f.desc(\"likes\"), f.desc(\"replies\")).show(10, False) # 691323"
      ],
      "metadata": {
        "colab": {
          "base_uri": "https://localhost:8080/"
        },
        "id": "v3Ff8P4ye6fE",
        "outputId": "b1375b0b-b20e-4663-9dd9-69e9f8817b6f"
      },
      "execution_count": 52,
      "outputs": [
        {
          "output_type": "stream",
          "name": "stdout",
          "text": [
            "+-----------+--------------------------------------------------------------------------------------------------------------------+-----+-------+\n",
            "|video_id   |comment_text                                                                                                        |likes|replies|\n",
            "+-----------+--------------------------------------------------------------------------------------------------------------------+-----+-------+\n",
            "|0R7MQwmbiQc|What if Mable was the duck??                                                                                        |48772|501    |\n",
            "|0R7MQwmbiQc|What if Mable was the duck??                                                                                        |47785|501    |\n",
            "|0R7MQwmbiQc|What if Mable was the duck??                                                                                        |45316|500    |\n",
            "|0R7MQwmbiQc|What if Mable was the duck??                                                                                        |39530|500    |\n",
            "|hkA2a4_tNOs|I thought that the sad clown emoji represented that Pennywise is sad that you aren't covering It.                   |30228|500    |\n",
            "|hkA2a4_tNOs|I thought that the sad clown emoji represented that Pennywise is sad that you aren't covering It.                   |29738|500    |\n",
            "|hkA2a4_tNOs|I thought that the sad clown emoji represented that Pennywise is sad that you aren't covering It.                   |29139|500    |\n",
            "|hkA2a4_tNOs|I thought that the sad clown emoji represented that Pennywise is sad that you aren't covering It.                   |28599|501    |\n",
            "|WHvT-oGf6ik|🚨🚨WARNING!! STOP HERE IF U DONT WANT SPOILERS!! THE COMMENTS WILL RUIN THE EXPERIENCE! WATCH THEN READ!!🚨🚨 lmfao|27854|500    |\n",
            "|hkA2a4_tNOs|I thought that the sad clown emoji represented that Pennywise is sad that you aren't covering It.                   |27384|500    |\n",
            "+-----------+--------------------------------------------------------------------------------------------------------------------+-----+-------+\n",
            "only showing top 10 rows\n",
            "\n"
          ]
        }
      ]
    },
    {
      "cell_type": "code",
      "source": [
        "comments.count()"
      ],
      "metadata": {
        "colab": {
          "base_uri": "https://localhost:8080/"
        },
        "id": "RpKLuBbje7FU",
        "outputId": "e827a46a-ab75-4f79-9419-d32b7221377c"
      },
      "execution_count": 53,
      "outputs": [
        {
          "output_type": "execute_result",
          "data": {
            "text/plain": [
              "691722"
            ]
          },
          "metadata": {},
          "execution_count": 53
        }
      ]
    },
    {
      "cell_type": "markdown",
      "source": [
        "Будем считать что таблица `comments` у нас гиганская -> `691722 rows`, а таблица `videos` среднего размера -> `7998 rows`\n",
        "\n",
        "Сравним как будет работать обычный join и 'соленый'"
      ],
      "metadata": {
        "id": "Uuozi7jhfHvP"
      }
    },
    {
      "cell_type": "code",
      "source": [
        "%%time\n",
        "test_join = (\n",
        "    videos_tg\n",
        "    .join(comments, on=[\"video_id\"], how=\"left\")\n",
        ").explain() # show(2)"
      ],
      "metadata": {
        "colab": {
          "base_uri": "https://localhost:8080/"
        },
        "id": "l8IDP9iae7I9",
        "outputId": "81e96a01-9fa1-4ed8-9f79-802eedf28c56"
      },
      "execution_count": 54,
      "outputs": [
        {
          "output_type": "stream",
          "name": "stdout",
          "text": [
            "== Physical Plan ==\n",
            "*(5) Project [video_id#21, title#22, channel_title#23, category_id#24, tags#195, views#26, likes#27, dislikes#28, comment_total#29, thumbnail_link#30, date#31, comment_text#1815, likes#1816, replies#1817]\n",
            "+- *(5) SortMergeJoin [video_id#21], [video_id#1814], LeftOuter\n",
            "   :- *(2) Sort [video_id#21 ASC NULLS FIRST], false, 0\n",
            "   :  +- Exchange hashpartitioning(video_id#21, 200), ENSURE_REQUIREMENTS, [id=#2100]\n",
            "   :     +- *(1) Project [video_id#21, title#22, channel_title#23, category_id#24, UDF(tags#25) AS tags#195, views#26, likes#27, dislikes#28, comment_total#29, thumbnail_link#30, date#31]\n",
            "   :        +- FileScan csv [video_id#21,title#22,channel_title#23,category_id#24,tags#25,views#26,likes#27,dislikes#28,comment_total#29,thumbnail_link#30,date#31] Batched: false, DataFilters: [], Format: CSV, Location: InMemoryFileIndex(1 paths)[file:/content/USvideos.csv], PartitionFilters: [], PushedFilters: [], ReadSchema: struct<video_id:string,title:string,channel_title:string,category_id:int,tags:string,views:int,li...\n",
            "   +- *(4) Sort [video_id#1814 ASC NULLS FIRST], false, 0\n",
            "      +- Exchange hashpartitioning(video_id#1814, 200), ENSURE_REQUIREMENTS, [id=#2108]\n",
            "         +- *(3) Filter isnotnull(video_id#1814)\n",
            "            +- FileScan csv [video_id#1814,comment_text#1815,likes#1816,replies#1817] Batched: false, DataFilters: [isnotnull(video_id#1814)], Format: CSV, Location: InMemoryFileIndex(1 paths)[file:/content/UScomments.csv], PartitionFilters: [], PushedFilters: [IsNotNull(video_id)], ReadSchema: struct<video_id:string,comment_text:string,likes:int,replies:int>\n",
            "\n",
            "\n",
            "CPU times: user 1.09 ms, sys: 5.15 ms, total: 6.24 ms\n",
            "Wall time: 88.5 ms\n"
          ]
        }
      ]
    },
    {
      "cell_type": "code",
      "source": [
        "%%time\n",
        "test_join = (\n",
        "    videos_tg\n",
        "    .join(comments, on=[\"video_id\"], how=\"left\")\n",
        ").show(2)"
      ],
      "metadata": {
        "colab": {
          "base_uri": "https://localhost:8080/"
        },
        "id": "uhzRnQS6gieO",
        "outputId": "bbe7f8c1-4f6d-4f05-b708-7170394953cf"
      },
      "execution_count": 55,
      "outputs": [
        {
          "output_type": "stream",
          "name": "stdout",
          "text": [
            "+-----------+--------------------+-------------+-----------+--------------------+-------+------+--------+-------------+--------------------+-----+--------------------+-----+-------+\n",
            "|   video_id|               title|channel_title|category_id|                tags|  views| likes|dislikes|comment_total|      thumbnail_link| date|        comment_text|likes|replies|\n",
            "+-----------+--------------------+-------------+-----------+--------------------+-------+------+--------+-------------+--------------------+-----+--------------------+-----+-------+\n",
            "|K4wEI5zhHB0|iPhone X — Introd...|        Apple|         28|[Apple, iPhone 10...|7860119|185853|   26679|            0|https://i.ytimg.c...|13.09|                null| null|   null|\n",
            "|cLdxuaxaQwc|         My Response|    PewDiePie|         22|            [[none]]|5845909|576597|   39774|       170708|https://i.ytimg.c...|13.09|Love you Pewdiepi...|    0|      0|\n",
            "+-----------+--------------------+-------------+-----------+--------------------+-------+------+--------+-------------+--------------------+-----+--------------------+-----+-------+\n",
            "only showing top 2 rows\n",
            "\n",
            "CPU times: user 59.9 ms, sys: 6.41 ms, total: 66.3 ms\n",
            "Wall time: 9.06 s\n"
          ]
        }
      ]
    },
    {
      "cell_type": "code",
      "source": [
        "%%time\n",
        "test_join = (\n",
        "    comments\n",
        "    .join(f.broadcast(videos_tg), on=[\"video_id\"], how=\"right\")\n",
        ").explain()"
      ],
      "metadata": {
        "colab": {
          "base_uri": "https://localhost:8080/"
        },
        "id": "LPcKLauke7Ms",
        "outputId": "93d24ca6-38c1-4c76-be9c-4f00f7f772dd"
      },
      "execution_count": 56,
      "outputs": [
        {
          "output_type": "stream",
          "name": "stdout",
          "text": [
            "== Physical Plan ==\n",
            "*(5) Project [video_id#21, comment_text#1815, likes#1816, replies#1817, title#22, channel_title#23, category_id#24, tags#195, views#26, likes#27, dislikes#28, comment_total#29, thumbnail_link#30, date#31]\n",
            "+- *(5) SortMergeJoin [video_id#1814], [video_id#21], RightOuter\n",
            "   :- *(2) Sort [video_id#1814 ASC NULLS FIRST], false, 0\n",
            "   :  +- Exchange hashpartitioning(video_id#1814, 200), ENSURE_REQUIREMENTS, [id=#2238]\n",
            "   :     +- *(1) Filter isnotnull(video_id#1814)\n",
            "   :        +- FileScan csv [video_id#1814,comment_text#1815,likes#1816,replies#1817] Batched: false, DataFilters: [isnotnull(video_id#1814)], Format: CSV, Location: InMemoryFileIndex(1 paths)[file:/content/UScomments.csv], PartitionFilters: [], PushedFilters: [IsNotNull(video_id)], ReadSchema: struct<video_id:string,comment_text:string,likes:int,replies:int>\n",
            "   +- *(4) Sort [video_id#21 ASC NULLS FIRST], false, 0\n",
            "      +- Exchange hashpartitioning(video_id#21, 200), ENSURE_REQUIREMENTS, [id=#2246]\n",
            "         +- *(3) Project [video_id#21, title#22, channel_title#23, category_id#24, UDF(tags#25) AS tags#195, views#26, likes#27, dislikes#28, comment_total#29, thumbnail_link#30, date#31]\n",
            "            +- FileScan csv [video_id#21,title#22,channel_title#23,category_id#24,tags#25,views#26,likes#27,dislikes#28,comment_total#29,thumbnail_link#30,date#31] Batched: false, DataFilters: [], Format: CSV, Location: InMemoryFileIndex(1 paths)[file:/content/USvideos.csv], PartitionFilters: [], PushedFilters: [], ReadSchema: struct<video_id:string,title:string,channel_title:string,category_id:int,tags:string,views:int,li...\n",
            "\n",
            "\n",
            "CPU times: user 4.78 ms, sys: 0 ns, total: 4.78 ms\n",
            "Wall time: 91.9 ms\n"
          ]
        }
      ]
    },
    {
      "cell_type": "code",
      "source": [
        "%%time\n",
        "test_join = (\n",
        "    comments\n",
        "    .join(f.broadcast(videos_tg), on=[\"video_id\"], how=\"right\")\n",
        ").show(2)"
      ],
      "metadata": {
        "colab": {
          "base_uri": "https://localhost:8080/"
        },
        "id": "EOdedyN-gnjc",
        "outputId": "93a79f8d-8778-4670-e149-1f3a441da77f"
      },
      "execution_count": 57,
      "outputs": [
        {
          "output_type": "stream",
          "name": "stdout",
          "text": [
            "+-----------+--------------------+-----+-------+--------------------+-------------+-----------+--------------------+-------+------+--------+-------------+--------------------+-----+\n",
            "|   video_id|        comment_text|likes|replies|               title|channel_title|category_id|                tags|  views| likes|dislikes|comment_total|      thumbnail_link| date|\n",
            "+-----------+--------------------+-----+-------+--------------------+-------------+-----------+--------------------+-------+------+--------+-------------+--------------------+-----+\n",
            "|K4wEI5zhHB0|                null| null|   null|iPhone X — Introd...|        Apple|         28|[Apple, iPhone 10...|7860119|185853|   26679|            0|https://i.ytimg.c...|13.09|\n",
            "|cLdxuaxaQwc|Love you Pewdiepi...|    0|      0|         My Response|    PewDiePie|         22|            [[none]]|5845909|576597|   39774|       170708|https://i.ytimg.c...|13.09|\n",
            "+-----------+--------------------+-----+-------+--------------------+-------------+-----------+--------------------+-------+------+--------+-------------+--------------------+-----+\n",
            "only showing top 2 rows\n",
            "\n",
            "CPU times: user 25.8 ms, sys: 7.16 ms, total: 32.9 ms\n",
            "Wall time: 4.12 s\n"
          ]
        }
      ]
    },
    {
      "cell_type": "markdown",
      "source": [
        "Из плана запроса видно что broadcast не сработал и выполнился повторно SortMergeJoin"
      ],
      "metadata": {
        "id": "RPVUBAifgUe8"
      }
    },
    {
      "cell_type": "code",
      "source": [
        "%%time\n",
        "test_join = (\n",
        "    videos_tg\n",
        "    .join(f.broadcast(comments), on=[\"video_id\"], how=\"left\")\n",
        ").explain()"
      ],
      "metadata": {
        "colab": {
          "base_uri": "https://localhost:8080/"
        },
        "id": "P9DX_BrUe7P-",
        "outputId": "0cc1e367-6713-49d7-a745-9d51f8f6c828"
      },
      "execution_count": 58,
      "outputs": [
        {
          "output_type": "stream",
          "name": "stdout",
          "text": [
            "== Physical Plan ==\n",
            "*(2) Project [video_id#21, title#22, channel_title#23, category_id#24, tags#195, views#26, likes#27, dislikes#28, comment_total#29, thumbnail_link#30, date#31, comment_text#1815, likes#1816, replies#1817]\n",
            "+- *(2) BroadcastHashJoin [video_id#21], [video_id#1814], LeftOuter, BuildRight, false\n",
            "   :- *(2) Project [video_id#21, title#22, channel_title#23, category_id#24, UDF(tags#25) AS tags#195, views#26, likes#27, dislikes#28, comment_total#29, thumbnail_link#30, date#31]\n",
            "   :  +- FileScan csv [video_id#21,title#22,channel_title#23,category_id#24,tags#25,views#26,likes#27,dislikes#28,comment_total#29,thumbnail_link#30,date#31] Batched: false, DataFilters: [], Format: CSV, Location: InMemoryFileIndex(1 paths)[file:/content/USvideos.csv], PartitionFilters: [], PushedFilters: [], ReadSchema: struct<video_id:string,title:string,channel_title:string,category_id:int,tags:string,views:int,li...\n",
            "   +- BroadcastExchange HashedRelationBroadcastMode(List(input[0, string, false]),false), [id=#2374]\n",
            "      +- *(1) Filter isnotnull(video_id#1814)\n",
            "         +- FileScan csv [video_id#1814,comment_text#1815,likes#1816,replies#1817] Batched: false, DataFilters: [isnotnull(video_id#1814)], Format: CSV, Location: InMemoryFileIndex(1 paths)[file:/content/UScomments.csv], PartitionFilters: [], PushedFilters: [IsNotNull(video_id)], ReadSchema: struct<video_id:string,comment_text:string,likes:int,replies:int>\n",
            "\n",
            "\n",
            "CPU times: user 2.72 ms, sys: 1.15 ms, total: 3.87 ms\n",
            "Wall time: 47.8 ms\n"
          ]
        }
      ]
    },
    {
      "cell_type": "code",
      "source": [
        "%%time\n",
        "test_join = (\n",
        "    videos_tg\n",
        "    .join(f.broadcast(comments), on=[\"video_id\"], how=\"left\")\n",
        ").show(2)"
      ],
      "metadata": {
        "colab": {
          "base_uri": "https://localhost:8080/"
        },
        "id": "PDTU8Q5Ne7Sn",
        "outputId": "286c8e97-1e44-4000-d101-518cc2f3ca23"
      },
      "execution_count": 59,
      "outputs": [
        {
          "output_type": "stream",
          "name": "stdout",
          "text": [
            "+-----------+--------------------+----------------+-----------+--------------------+-------+------+--------+-------------+--------------------+-----+--------------------+-----+-------+\n",
            "|   video_id|               title|   channel_title|category_id|                tags|  views| likes|dislikes|comment_total|      thumbnail_link| date|        comment_text|likes|replies|\n",
            "+-----------+--------------------+----------------+-----------+--------------------+-------+------+--------+-------------+--------------------+-----+--------------------+-----+-------+\n",
            "|XpVt6Z1Gjjo|1 YEAR OF VLOGGIN...|Logan Paul Vlogs|         24|[logan paul vlog,...|4394029|320053|    5931|        46245|https://i.ytimg.c...|13.09|at10 30 on the vi...|    0|      1|\n",
            "|XpVt6Z1Gjjo|1 YEAR OF VLOGGIN...|Logan Paul Vlogs|         24|[logan paul vlog,...|4394029|320053|    5931|        46245|https://i.ytimg.c...|13.09|O M G !😂💚💚💚🔥...|    3|      0|\n",
            "+-----------+--------------------+----------------+-----------+--------------------+-------+------+--------+-------------+--------------------+-----+--------------------+-----+-------+\n",
            "only showing top 2 rows\n",
            "\n",
            "CPU times: user 39.7 ms, sys: 2.56 ms, total: 42.3 ms\n",
            "Wall time: 5.44 s\n"
          ]
        }
      ]
    },
    {
      "cell_type": "markdown",
      "source": [
        "В этом случае broadcast сработал\n",
        "\n",
        "После применения время выполнения сокрасилось примерно в два раза с `7.9 s` до `4.6 s`"
      ],
      "metadata": {
        "id": "iuVL0FMRg88B"
      }
    },
    {
      "cell_type": "code",
      "source": [
        "videos.groupBy(f.col('video_id').alias('partition')).agg(f.count(\"*\").alias('partition_size')).sort(f.desc(\"partition_size\")).show()"
      ],
      "metadata": {
        "colab": {
          "base_uri": "https://localhost:8080/"
        },
        "id": "3zTK5W72e7Vu",
        "outputId": "13f9b04c-f7f6-4dae-a3ab-5972b6cbbb19"
      },
      "execution_count": 60,
      "outputs": [
        {
          "output_type": "stream",
          "name": "stdout",
          "text": [
            "+-----------+--------------+\n",
            "|  partition|partition_size|\n",
            "+-----------+--------------+\n",
            "|LunHybOKIjU|             8|\n",
            "|Oo0NJsr5m4I|             8|\n",
            "|Hlt3rA-oDao|             8|\n",
            "|odhMmAPDc54|             7|\n",
            "|iALfvFpcItE|             7|\n",
            "|oKzFGhlFqqE|             7|\n",
            "|UXdbCReBTR8|             7|\n",
            "|t8sgy0faXyg|             7|\n",
            "|KCNvREKTnQc|             7|\n",
            "|OlI8r3nNUVw|             7|\n",
            "|WYYvHb03Eog|             7|\n",
            "|8ndhidEmUbI|             7|\n",
            "|5Xe0Qd6bUFo|             7|\n",
            "|sjlHnJvXdQs|             7|\n",
            "|CwLGro-dFWg|             7|\n",
            "|dInwVhRtN4E|             7|\n",
            "|cLdxuaxaQwc|             7|\n",
            "|DeTu8xSGpEM|             7|\n",
            "|1QWLyi03twg|             7|\n",
            "|ZczwzVhai9E|             7|\n",
            "+-----------+--------------+\n",
            "only showing top 20 rows\n",
            "\n"
          ]
        }
      ]
    },
    {
      "cell_type": "code",
      "source": [
        "salted_df = comments.withColumn('salt', (f.rand() * 3).cast('int'))\n",
        "salted_df.where(\"video_id == 'XpVt6Z1Gjjo'\").show()"
      ],
      "metadata": {
        "colab": {
          "base_uri": "https://localhost:8080/"
        },
        "id": "hDEmSf1ee7Ys",
        "outputId": "88370cf6-5133-4662-ef4a-b99102e0c783"
      },
      "execution_count": 61,
      "outputs": [
        {
          "output_type": "stream",
          "name": "stdout",
          "text": [
            "+-----------+--------------------+-----+-------+----+\n",
            "|   video_id|        comment_text|likes|replies|salt|\n",
            "+-----------+--------------------+-----+-------+----+\n",
            "|XpVt6Z1Gjjo|Logan Paul it's y...|    4|      0|   1|\n",
            "|XpVt6Z1Gjjo|I've been followi...|    3|      0|   1|\n",
            "|XpVt6Z1Gjjo|Say hi to Kong an...|    3|      0|   1|\n",
            "|XpVt6Z1Gjjo| MY FAN . attendance|    3|      0|   1|\n",
            "|XpVt6Z1Gjjo|         trending 😉|    3|      0|   2|\n",
            "|XpVt6Z1Gjjo|#1 on trending AY...|    3|      0|   1|\n",
            "|XpVt6Z1Gjjo|The end though 😭...|    4|      0|   1|\n",
            "|XpVt6Z1Gjjo|#1 trending!!!!!!!!!|    3|      0|   0|\n",
            "|XpVt6Z1Gjjo|Happy one year vl...|    3|      0|   2|\n",
            "|XpVt6Z1Gjjo|You and your shit...|    0|      0|   0|\n",
            "|XpVt6Z1Gjjo|There should be a...|    0|      0|   1|\n",
            "|XpVt6Z1Gjjo|Dear Logan, I rea...|    0|      0|   2|\n",
            "|XpVt6Z1Gjjo|Honestly Evan is ...|    0|      0|   0|\n",
            "|XpVt6Z1Gjjo|Casey is still be...|    0|      0|   1|\n",
            "|XpVt6Z1Gjjo|aw geez rick this...|    0|      0|   2|\n",
            "|XpVt6Z1Gjjo|He happy cause he...|    0|      0|   2|\n",
            "|XpVt6Z1Gjjo|Ayyyyoooo Logang ...|    1|      0|   1|\n",
            "|XpVt6Z1Gjjo|Bro y didnt u giv...|    0|      0|   1|\n",
            "|XpVt6Z1Gjjo|It's been fun wat...|    3|      0|   1|\n",
            "|XpVt6Z1Gjjo|Made a lot of peo...|    0|      0|   0|\n",
            "+-----------+--------------------+-----+-------+----+\n",
            "only showing top 20 rows\n",
            "\n"
          ]
        }
      ]
    },
    {
      "cell_type": "code",
      "source": [
        "enriched_df = (\n",
        "    videos_tg\n",
        "    .select(\n",
        "        f.col('*'),\n",
        "        f.explode(f.array([f.lit(i) for i in [0, 1, 2]])).alias('salt')\n",
        "    )\n",
        ")\n",
        "enriched_df.show()"
      ],
      "metadata": {
        "colab": {
          "base_uri": "https://localhost:8080/"
        },
        "id": "Rp7QgY24e7bk",
        "outputId": "5a43f731-2a74-4fc5-f85d-6b359c3cc9d5"
      },
      "execution_count": 62,
      "outputs": [
        {
          "output_type": "stream",
          "name": "stdout",
          "text": [
            "+-----------+--------------------+--------------------+-----------+--------------------+-------+------+--------+-------------+--------------------+-----+----+\n",
            "|   video_id|               title|       channel_title|category_id|                tags|  views| likes|dislikes|comment_total|      thumbnail_link| date|salt|\n",
            "+-----------+--------------------+--------------------+-----------+--------------------+-------+------+--------+-------------+--------------------+-----+----+\n",
            "|XpVt6Z1Gjjo|1 YEAR OF VLOGGIN...|    Logan Paul Vlogs|         24|[logan paul vlog,...|4394029|320053|    5931|        46245|https://i.ytimg.c...|13.09|   0|\n",
            "|XpVt6Z1Gjjo|1 YEAR OF VLOGGIN...|    Logan Paul Vlogs|         24|[logan paul vlog,...|4394029|320053|    5931|        46245|https://i.ytimg.c...|13.09|   1|\n",
            "|XpVt6Z1Gjjo|1 YEAR OF VLOGGIN...|    Logan Paul Vlogs|         24|[logan paul vlog,...|4394029|320053|    5931|        46245|https://i.ytimg.c...|13.09|   2|\n",
            "|K4wEI5zhHB0|iPhone X — Introd...|               Apple|         28|[Apple, iPhone 10...|7860119|185853|   26679|            0|https://i.ytimg.c...|13.09|   0|\n",
            "|K4wEI5zhHB0|iPhone X — Introd...|               Apple|         28|[Apple, iPhone 10...|7860119|185853|   26679|            0|https://i.ytimg.c...|13.09|   1|\n",
            "|K4wEI5zhHB0|iPhone X — Introd...|               Apple|         28|[Apple, iPhone 10...|7860119|185853|   26679|            0|https://i.ytimg.c...|13.09|   2|\n",
            "|cLdxuaxaQwc|         My Response|           PewDiePie|         22|            [[none]]|5845909|576597|   39774|       170708|https://i.ytimg.c...|13.09|   0|\n",
            "|cLdxuaxaQwc|         My Response|           PewDiePie|         22|            [[none]]|5845909|576597|   39774|       170708|https://i.ytimg.c...|13.09|   1|\n",
            "|cLdxuaxaQwc|         My Response|           PewDiePie|         22|            [[none]]|5845909|576597|   39774|       170708|https://i.ytimg.c...|13.09|   2|\n",
            "|WYYvHb03Eog|Apple iPhone X fi...|           The Verge|         28|[apple iphone x h...|2642103| 24975|    4542|        12829|https://i.ytimg.c...|13.09|   0|\n",
            "|WYYvHb03Eog|Apple iPhone X fi...|           The Verge|         28|[apple iphone x h...|2642103| 24975|    4542|        12829|https://i.ytimg.c...|13.09|   1|\n",
            "|WYYvHb03Eog|Apple iPhone X fi...|           The Verge|         28|[apple iphone x h...|2642103| 24975|    4542|        12829|https://i.ytimg.c...|13.09|   2|\n",
            "|sjlHnJvXdQs|   iPhone X (parody)|          jacksfilms|         23|[jacksfilms, paro...|1168130| 96666|     568|         6666|https://i.ytimg.c...|13.09|   0|\n",
            "|sjlHnJvXdQs|   iPhone X (parody)|          jacksfilms|         23|[jacksfilms, paro...|1168130| 96666|     568|         6666|https://i.ytimg.c...|13.09|   1|\n",
            "|sjlHnJvXdQs|   iPhone X (parody)|          jacksfilms|         23|[jacksfilms, paro...|1168130| 96666|     568|         6666|https://i.ytimg.c...|13.09|   2|\n",
            "|cMKX2tE5Luk|The Disaster Arti...|                 A24|          1|[a24, a24 films, ...|1311445| 34507|     544|         3040|https://i.ytimg.c...|13.09|   0|\n",
            "|cMKX2tE5Luk|The Disaster Arti...|                 A24|          1|[a24, a24 films, ...|1311445| 34507|     544|         3040|https://i.ytimg.c...|13.09|   1|\n",
            "|cMKX2tE5Luk|The Disaster Arti...|                 A24|          1|[a24, a24 films, ...|1311445| 34507|     544|         3040|https://i.ytimg.c...|13.09|   2|\n",
            "|8wNr-NQImFg|The Check In: HUD...|Late Night with S...|         23|[Late night, Seth...| 666169|  9985|     297|         1071|https://i.ytimg.c...|13.09|   0|\n",
            "|8wNr-NQImFg|The Check In: HUD...|Late Night with S...|         23|[Late night, Seth...| 666169|  9985|     297|         1071|https://i.ytimg.c...|13.09|   1|\n",
            "+-----------+--------------------+--------------------+-----------+--------------------+-------+------+--------+-------------+--------------------+-----+----+\n",
            "only showing top 20 rows\n",
            "\n"
          ]
        }
      ]
    },
    {
      "cell_type": "code",
      "source": [
        "%%time\n",
        "joined_df = (\n",
        "    salted_df\n",
        "    .join(enriched_df, on=['video_id', 'salt'], how=\"left\")\n",
        ").drop('salt').show(2)"
      ],
      "metadata": {
        "colab": {
          "base_uri": "https://localhost:8080/"
        },
        "id": "65lTzLeqhNtM",
        "outputId": "48a8adfe-5f0e-4514-9407-7f8ab60e654e"
      },
      "execution_count": 63,
      "outputs": [
        {
          "output_type": "stream",
          "name": "stdout",
          "text": [
            "+-----------+------------+-----+-------+--------------------+---------------+-----------+--------------------+-----+-----+--------+-------------+--------------------+-----+\n",
            "|   video_id|comment_text|likes|replies|               title|  channel_title|category_id|                tags|views|likes|dislikes|comment_total|      thumbnail_link| date|\n",
            "+-----------+------------+-----+-------+--------------------+---------------+-----------+--------------------+-----+-----+--------+-------------+--------------------+-----+\n",
            "|X8Ijui33P6I|         Why|    0|      0|Meet the Man Buil...|Great Big Story|         22|[great big story,...|79184| 2431|      42|          259|https://i.ytimg.c...|29.09|\n",
            "|X8Ijui33P6I|         Why|    0|      0|Meet the Man Buil...|Great Big Story|         22|[great big story,...|94035| 2597|      48|          260|https://i.ytimg.c...|30.09|\n",
            "+-----------+------------+-----+-------+--------------------+---------------+-----------+--------------------+-----+-----+--------+-------------+--------------------+-----+\n",
            "only showing top 2 rows\n",
            "\n",
            "CPU times: user 11.9 ms, sys: 938 µs, total: 12.8 ms\n",
            "Wall time: 944 ms\n"
          ]
        }
      ]
    },
    {
      "cell_type": "code",
      "source": [
        "%%time\n",
        "joined_df = (\n",
        "    salted_df\n",
        "    .join(f.broadcast(enriched_df), on=['video_id', 'salt'], how=\"left\")\n",
        ").drop('salt').show(2)\n"
      ],
      "metadata": {
        "colab": {
          "base_uri": "https://localhost:8080/"
        },
        "id": "4y9I_3UthNwb",
        "outputId": "0a782afd-32e6-4040-aecb-915cf8a38d81"
      },
      "execution_count": 64,
      "outputs": [
        {
          "output_type": "stream",
          "name": "stdout",
          "text": [
            "+-----------+--------------------+-----+-------+--------------------+----------------+-----------+--------------------+-------+------+--------+-------------+--------------------+-----+\n",
            "|   video_id|        comment_text|likes|replies|               title|   channel_title|category_id|                tags|  views| likes|dislikes|comment_total|      thumbnail_link| date|\n",
            "+-----------+--------------------+-----+-------+--------------------+----------------+-----------+--------------------+-------+------+--------+-------------+--------------------+-----+\n",
            "|XpVt6Z1Gjjo|Logan Paul it's y...|    4|      0|1 YEAR OF VLOGGIN...|Logan Paul Vlogs|         24|[logan paul vlog,...|6232518|373824|   23701|        39144|https://i.ytimg.c...|19.09|\n",
            "|XpVt6Z1Gjjo|Logan Paul it's y...|    4|      0|1 YEAR OF VLOGGIN...|Logan Paul Vlogs|         24|[logan paul vlog,...|6195810|372700|   23509|        39002|https://i.ytimg.c...|18.09|\n",
            "+-----------+--------------------+-----+-------+--------------------+----------------+-----------+--------------------+-------+------+--------+-------------+--------------------+-----+\n",
            "only showing top 2 rows\n",
            "\n",
            "CPU times: user 7.73 ms, sys: 1.26 ms, total: 9 ms\n",
            "Wall time: 560 ms\n"
          ]
        }
      ]
    },
    {
      "cell_type": "markdown",
      "source": [
        "‘Соленый’ join отработал примерно в 3 раза быстрее Wall time: 2.78 s -> Wall time: 7.68 s"
      ],
      "metadata": {
        "id": "824hsyrzhb8b"
      }
    },
    {
      "cell_type": "code",
      "source": [
        "%%time\n",
        "joined_df = (\n",
        "    salted_df\n",
        "    .withColumnRenamed('likes','comment_likes')\n",
        "    .join(enriched_df, on=['video_id', 'salt'], how=\"left\")\n",
        ").drop('salt')\n",
        "\n",
        "joined_df.show(2)"
      ],
      "metadata": {
        "colab": {
          "base_uri": "https://localhost:8080/"
        },
        "id": "6Z55xfTFhNz7",
        "outputId": "3f144e3c-bd56-4f25-86fe-9a52f379f774"
      },
      "execution_count": 65,
      "outputs": [
        {
          "output_type": "stream",
          "name": "stdout",
          "text": [
            "+-----------+------------+-------------+-------+--------------------+---------------+-----------+--------------------+-----+-----+--------+-------------+--------------------+-----+\n",
            "|   video_id|comment_text|comment_likes|replies|               title|  channel_title|category_id|                tags|views|likes|dislikes|comment_total|      thumbnail_link| date|\n",
            "+-----------+------------+-------------+-------+--------------------+---------------+-----------+--------------------+-----+-----+--------+-------------+--------------------+-----+\n",
            "|X8Ijui33P6I|         Why|            0|      0|Meet the Man Buil...|Great Big Story|         22|[great big story,...|79184| 2431|      42|          259|https://i.ytimg.c...|29.09|\n",
            "|X8Ijui33P6I|         Why|            0|      0|Meet the Man Buil...|Great Big Story|         22|[great big story,...|94035| 2597|      48|          260|https://i.ytimg.c...|30.09|\n",
            "+-----------+------------+-------------+-------+--------------------+---------------+-----------+--------------------+-----+-----+--------+-------------+--------------------+-----+\n",
            "only showing top 2 rows\n",
            "\n",
            "CPU times: user 13.6 ms, sys: 2.55 ms, total: 16.1 ms\n",
            "Wall time: 1.15 s\n"
          ]
        }
      ]
    },
    {
      "cell_type": "code",
      "source": [
        "%%time\n",
        "joined_df = (\n",
        "    salted_df\n",
        "    .withColumnRenamed('likes','comment_likes')\n",
        "    .join(f.broadcast(enriched_df), on=['video_id', 'salt'], how=\"left\")\n",
        ").drop('salt')\n",
        "\n",
        "joined_df.show(2)"
      ],
      "metadata": {
        "colab": {
          "base_uri": "https://localhost:8080/"
        },
        "id": "eRst_RophN3G",
        "outputId": "d5489a10-ecba-48ef-93c7-d05fc09ad249"
      },
      "execution_count": 66,
      "outputs": [
        {
          "output_type": "stream",
          "name": "stdout",
          "text": [
            "+-----------+--------------------+-------------+-------+--------------------+----------------+-----------+--------------------+-------+------+--------+-------------+--------------------+-----+\n",
            "|   video_id|        comment_text|comment_likes|replies|               title|   channel_title|category_id|                tags|  views| likes|dislikes|comment_total|      thumbnail_link| date|\n",
            "+-----------+--------------------+-------------+-------+--------------------+----------------+-----------+--------------------+-------+------+--------+-------------+--------------------+-----+\n",
            "|XpVt6Z1Gjjo|Logan Paul it's y...|            4|      0|1 YEAR OF VLOGGIN...|Logan Paul Vlogs|         24|[logan paul vlog,...|6232518|373824|   23701|        39144|https://i.ytimg.c...|19.09|\n",
            "|XpVt6Z1Gjjo|Logan Paul it's y...|            4|      0|1 YEAR OF VLOGGIN...|Logan Paul Vlogs|         24|[logan paul vlog,...|6195810|372700|   23509|        39002|https://i.ytimg.c...|18.09|\n",
            "+-----------+--------------------+-------------+-------+--------------------+----------------+-----------+--------------------+-------+------+--------+-------------+--------------------+-----+\n",
            "only showing top 2 rows\n",
            "\n",
            "CPU times: user 11.2 ms, sys: 0 ns, total: 11.2 ms\n",
            "Wall time: 553 ms\n"
          ]
        }
      ]
    },
    {
      "cell_type": "markdown",
      "source": [
        "'Соленый' join + broadcast отработал еще быстрее примерно в 2 раза `Wall time: 2.19 s` -> `Wall time: 1.14 s`"
      ],
      "metadata": {
        "id": "PWHwLl-hhlJ7"
      }
    },
    {
      "cell_type": "code",
      "source": [
        "def score_count(views: pd.Series, likes: pd.Series, dislikes: pd.Series, comment_likes: pd.Series) -> pd.Series:\n",
        "    return views + likes - dislikes + comment_likes\n",
        "score = f.pandas_udf(score_count, returnType=t.LongType())"
      ],
      "metadata": {
        "id": "uHxhjoNVhN57"
      },
      "execution_count": 67,
      "outputs": []
    },
    {
      "cell_type": "code",
      "source": [
        "scored_videos = (\n",
        "    joined_df\n",
        "    .withColumn(\"score\", score(f.col(\"views\"), f.col(\"likes\"), f.col(\"dislikes\"), f.col(\"comment_likes\")))\n",
        "    .drop(\"views\",\"likes\", \"dislikes\", \"comment_likes\")\n",
        ")"
      ],
      "metadata": {
        "id": "EW8yLXHBhN8z"
      },
      "execution_count": 68,
      "outputs": []
    },
    {
      "cell_type": "code",
      "source": [
        "scored_videos. \\\n",
        "select(\"video_id\", \"category_id\", \"title\", \"channel_title\", \"score\"). \\\n",
        "groupBy(\"video_id\", \"category_id\",).agg(\n",
        "    f.max(\"score\").alias('score'),\n",
        "    f.first(\"title\").alias('title'),\n",
        "    f.first(\"channel_title\").alias('channel_title'),\n",
        ").sort(f.desc(\"score\")).show()"
      ],
      "metadata": {
        "colab": {
          "base_uri": "https://localhost:8080/"
        },
        "id": "ByhHM6dWhuOb",
        "outputId": "449e49ab-dddc-4603-e773-0fce49b2a790"
      },
      "execution_count": 69,
      "outputs": [
        {
          "output_type": "stream",
          "name": "stdout",
          "text": [
            "+-----------+-----------+--------+-------------------------+--------------------+\n",
            "|   video_id|category_id|   score|                    title|       channel_title|\n",
            "+-----------+-----------+--------+-------------------------+--------------------+\n",
            "|MBdVXkSdhwU|         10|43432970|BTS (방탄소년단) 'DNA'...|             ibighit|\n",
            "|tt2k8PGm-TI|         10|37727136|     ZAYN - Dusk Till ...|            ZaynVEVO|\n",
            "|LunHybOKIjU|         24|33990154|     Eminem Rips Donal...|         BETNetworks|\n",
            "|SHq2qrFUlGY|         10|32671746|     Shakira - Perro F...|         shakiraVEVO|\n",
            "|Q0CbN8sfihY|         24|28518505|     Star Wars: The La...|           Star Wars|\n",
            "|3y5A4paFOb4|         24|19777528|     Logan Paul - Outt...|    Logan Paul Vlogs|\n",
            "|r9-DM9uBtVI|         24|19477413|     JUSTICE LEAGUE - ...|Warner Bros. Pict...|\n",
            "|FSOxXsYVJMQ|         10|16079719|BTS (방탄소년단) 'DNA'...|             ibighit|\n",
            "|GO6qs83CHpc|         25|16007153|     Sneaky toddler st...|The Royal Family ...|\n",
            "|D59v74k5flU|         22|15919288|     Primitive Technol...|Primitive Technology|\n",
            "|5ggZ9jIHnr8|         10|15359015|     Alesso & Anitta -...|              Alesso|\n",
            "|J_ub7Etch2U|         10|14521254|     Sam Smith - Too G...|   SamSmithWorldVEVO|\n",
            "|AX8-YzMKZhQ|         10|14190112|     Sam Smith - Too G...|   SamSmithWorldVEVO|\n",
            "|LcZ2AuvxXNA|         17|14109477|     Nerf Bow Trick Sh...|        Dude Perfect|\n",
            "|t2oVUxTV4WA|         23|13932777|     Celebrities Read ...|   Jimmy Kimmel Live|\n",
            "|APHgDFRpCi0|         10|13485218|     J Balvin, Willy W...|         jbalvinVEVO|\n",
            "|gOsM-DYAEhY|         10|12592149|     Imagine Dragons -...|  ImagineDragonsVEVO|\n",
            "|1NyMSWqIJDQ|         10|12375594|     Danielle Bregoli ...|         Bhad Bhabie|\n",
            "|EUoe7cf0HYw|         10|11229569|     Taylor Swift - Go...|     TaylorSwiftVEVO|\n",
            "|XM23h-eJ08A|         17|11004704|     Soccer Trick Shot...|        Dude Perfect|\n",
            "+-----------+-----------+--------+-------------------------+--------------------+\n",
            "only showing top 20 rows\n",
            "\n"
          ]
        }
      ]
    },
    {
      "cell_type": "code",
      "source": [
        "category = spark.read.option(\"multiline\",\"true\") .json('./US_category_id.json')"
      ],
      "metadata": {
        "id": "p1keVNMHhuSG"
      },
      "execution_count": 70,
      "outputs": []
    },
    {
      "cell_type": "code",
      "source": [
        "category = category.withColumn(\"items\", f.explode(category.items))"
      ],
      "metadata": {
        "id": "Q-l0n4zShuU7"
      },
      "execution_count": 71,
      "outputs": []
    },
    {
      "cell_type": "code",
      "source": [
        "category.printSchema()"
      ],
      "metadata": {
        "colab": {
          "base_uri": "https://localhost:8080/"
        },
        "id": "_veJAEu7huX6",
        "outputId": "5f3e3355-2c0a-4ad9-a0f1-e674dd5a77d4"
      },
      "execution_count": 72,
      "outputs": [
        {
          "output_type": "stream",
          "name": "stdout",
          "text": [
            "root\n",
            " |-- etag: string (nullable = true)\n",
            " |-- items: struct (nullable = true)\n",
            " |    |-- etag: string (nullable = true)\n",
            " |    |-- id: string (nullable = true)\n",
            " |    |-- kind: string (nullable = true)\n",
            " |    |-- snippet: struct (nullable = true)\n",
            " |    |    |-- assignable: boolean (nullable = true)\n",
            " |    |    |-- channelId: string (nullable = true)\n",
            " |    |    |-- title: string (nullable = true)\n",
            " |-- kind: string (nullable = true)\n",
            "\n"
          ]
        }
      ]
    },
    {
      "cell_type": "code",
      "source": [
        "category.count()"
      ],
      "metadata": {
        "colab": {
          "base_uri": "https://localhost:8080/"
        },
        "id": "7cgj0LHIhuaz",
        "outputId": "56ca3348-dd82-4882-e50c-e6435544d34f"
      },
      "execution_count": 73,
      "outputs": [
        {
          "output_type": "execute_result",
          "data": {
            "text/plain": [
              "32"
            ]
          },
          "metadata": {},
          "execution_count": 73
        }
      ]
    },
    {
      "cell_type": "code",
      "source": [
        "category_only = (\n",
        "    category\n",
        "    .select(\n",
        "    f.col(\"items.id\").alias(\"category_id\"),\n",
        "    f.col(\"items.snippet.title\").alias(\"category_title\"),\n",
        "    )\n",
        ")\n",
        "\n",
        "category_only.show(40, False)"
      ],
      "metadata": {
        "colab": {
          "base_uri": "https://localhost:8080/"
        },
        "id": "JjNIqfjYhudj",
        "outputId": "79ea027c-31ca-4588-f9a0-cbded14620ea"
      },
      "execution_count": 74,
      "outputs": [
        {
          "output_type": "stream",
          "name": "stdout",
          "text": [
            "+-----------+---------------------+\n",
            "|category_id|category_title       |\n",
            "+-----------+---------------------+\n",
            "|1          |Film & Animation     |\n",
            "|2          |Autos & Vehicles     |\n",
            "|10         |Music                |\n",
            "|15         |Pets & Animals       |\n",
            "|17         |Sports               |\n",
            "|18         |Short Movies         |\n",
            "|19         |Travel & Events      |\n",
            "|20         |Gaming               |\n",
            "|21         |Videoblogging        |\n",
            "|22         |People & Blogs       |\n",
            "|23         |Comedy               |\n",
            "|24         |Entertainment        |\n",
            "|25         |News & Politics      |\n",
            "|26         |Howto & Style        |\n",
            "|27         |Education            |\n",
            "|28         |Science & Technology |\n",
            "|29         |Nonprofits & Activism|\n",
            "|30         |Movies               |\n",
            "|31         |Anime/Animation      |\n",
            "|32         |Action/Adventure     |\n",
            "|33         |Classics             |\n",
            "|34         |Comedy               |\n",
            "|35         |Documentary          |\n",
            "|36         |Drama                |\n",
            "|37         |Family               |\n",
            "|38         |Foreign              |\n",
            "|39         |Horror               |\n",
            "|40         |Sci-Fi/Fantasy       |\n",
            "|41         |Thriller             |\n",
            "|42         |Shorts               |\n",
            "|43         |Shows                |\n",
            "|44         |Trailers             |\n",
            "+-----------+---------------------+\n",
            "\n"
          ]
        }
      ]
    },
    {
      "cell_type": "code",
      "source": [
        "%%time\n",
        "pre_categories_score = (\n",
        "    scored_videos\n",
        "    .join(category_only, on=[\"category_id\"], how=\"left\")\n",
        ")\n",
        "pre_categories_score.show()"
      ],
      "metadata": {
        "colab": {
          "base_uri": "https://localhost:8080/"
        },
        "id": "E-UQVe8MhugT",
        "outputId": "83a1fe6a-67d2-4a33-fef6-1d7639964b01"
      },
      "execution_count": 75,
      "outputs": [
        {
          "output_type": "stream",
          "name": "stdout",
          "text": [
            "+-----------+-----------+--------------------+-------+--------+-------------+--------------------+-------------+--------------------+-----+-------+--------------+\n",
            "|category_id|   video_id|        comment_text|replies|   title|channel_title|                tags|comment_total|      thumbnail_link| date|  score|category_title|\n",
            "+-----------+-----------+--------------------+-------+--------+-------------+--------------------+-------------+--------------------+-----+-------+--------------+\n",
            "|         27|C25qzDhGLx8|This is some half...|      0|Why Die?|     CGP Grey|[cgpgrey, educati...|        16220|https://i.ytimg.c...|22.10|2146963|     Education|\n",
            "|         27|C25qzDhGLx8|This is some half...|      0|Why Die?|     CGP Grey|[cgpgrey, educati...|        11404|https://i.ytimg.c...|21.10|1339566|     Education|\n",
            "|         27|C25qzDhGLx8|The peaceful pill...|      0|Why Die?|     CGP Grey|[cgpgrey, educati...|        16220|https://i.ytimg.c...|22.10|2146963|     Education|\n",
            "|         27|C25qzDhGLx8|The peaceful pill...|      0|Why Die?|     CGP Grey|[cgpgrey, educati...|        11404|https://i.ytimg.c...|21.10|1339566|     Education|\n",
            "|         27|C25qzDhGLx8|This video is sim...|      0|Why Die?|     CGP Grey|[cgpgrey, educati...|        16220|https://i.ytimg.c...|22.10|2146963|     Education|\n",
            "|         27|C25qzDhGLx8|This video is sim...|      0|Why Die?|     CGP Grey|[cgpgrey, educati...|        11404|https://i.ytimg.c...|21.10|1339566|     Education|\n",
            "|         27|C25qzDhGLx8|Death is good and...|      0|Why Die?|     CGP Grey|[cgpgrey, educati...|        16220|https://i.ytimg.c...|22.10|2146963|     Education|\n",
            "|         27|C25qzDhGLx8|Death is good and...|      0|Why Die?|     CGP Grey|[cgpgrey, educati...|        11404|https://i.ytimg.c...|21.10|1339566|     Education|\n",
            "|         27|C25qzDhGLx8|Give me immortali...|      0|Why Die?|     CGP Grey|[cgpgrey, educati...|        16220|https://i.ytimg.c...|22.10|2146963|     Education|\n",
            "|         27|C25qzDhGLx8|Give me immortali...|      0|Why Die?|     CGP Grey|[cgpgrey, educati...|        11404|https://i.ytimg.c...|21.10|1339566|     Education|\n",
            "|         27|C25qzDhGLx8|Imagine the amoun...|      0|Why Die?|     CGP Grey|[cgpgrey, educati...|        16220|https://i.ytimg.c...|22.10|2146963|     Education|\n",
            "|         27|C25qzDhGLx8|Imagine the amoun...|      0|Why Die?|     CGP Grey|[cgpgrey, educati...|        11404|https://i.ytimg.c...|21.10|1339566|     Education|\n",
            "|         27|C25qzDhGLx8|Blessent mon coue...|      0|Why Die?|     CGP Grey|[cgpgrey, educati...|        16220|https://i.ytimg.c...|22.10|2146963|     Education|\n",
            "|         27|C25qzDhGLx8|Blessent mon coue...|      0|Why Die?|     CGP Grey|[cgpgrey, educati...|        11404|https://i.ytimg.c...|21.10|1339566|     Education|\n",
            "|         27|C25qzDhGLx8|This is a hypothe...|      0|Why Die?|     CGP Grey|[cgpgrey, educati...|        16220|https://i.ytimg.c...|22.10|2146963|     Education|\n",
            "|         27|C25qzDhGLx8|This is a hypothe...|      0|Why Die?|     CGP Grey|[cgpgrey, educati...|        11404|https://i.ytimg.c...|21.10|1339566|     Education|\n",
            "|         27|C25qzDhGLx8|Those two episode...|      0|Why Die?|     CGP Grey|[cgpgrey, educati...|        16220|https://i.ytimg.c...|22.10|2146963|     Education|\n",
            "|         27|C25qzDhGLx8|Those two episode...|      0|Why Die?|     CGP Grey|[cgpgrey, educati...|        11404|https://i.ytimg.c...|21.10|1339566|     Education|\n",
            "|         27|C25qzDhGLx8|This is what happ...|      0|Why Die?|     CGP Grey|[cgpgrey, educati...|        16220|https://i.ytimg.c...|22.10|2146963|     Education|\n",
            "|         27|C25qzDhGLx8|This is what happ...|      0|Why Die?|     CGP Grey|[cgpgrey, educati...|        11404|https://i.ytimg.c...|21.10|1339566|     Education|\n",
            "+-----------+-----------+--------------------+-------+--------+-------------+--------------------+-------------+--------------------+-----+-------+--------------+\n",
            "only showing top 20 rows\n",
            "\n",
            "CPU times: user 43.9 ms, sys: 6.61 ms, total: 50.5 ms\n",
            "Wall time: 6.06 s\n"
          ]
        }
      ]
    },
    {
      "cell_type": "code",
      "source": [
        "%%time\n",
        "pre_categories_score = (\n",
        "    scored_videos\n",
        "    .join(f.broadcast(category_only), on=[\"category_id\"], how=\"left\")\n",
        ")\n",
        "pre_categories_score.show()"
      ],
      "metadata": {
        "colab": {
          "base_uri": "https://localhost:8080/"
        },
        "id": "mrDsO4P_hujD",
        "outputId": "fc4bed3e-e161-42a4-cadf-99a3a0f4d039"
      },
      "execution_count": 76,
      "outputs": [
        {
          "output_type": "stream",
          "name": "stdout",
          "text": [
            "+-----------+-----------+--------------------+-------+--------------------+----------------+--------------------+-------------+--------------------+-----+-------+--------------+\n",
            "|category_id|   video_id|        comment_text|replies|               title|   channel_title|                tags|comment_total|      thumbnail_link| date|  score|category_title|\n",
            "+-----------+-----------+--------------------+-------+--------------------+----------------+--------------------+-------------+--------------------+-----+-------+--------------+\n",
            "|         24|XpVt6Z1Gjjo|Logan Paul it's y...|      0|1 YEAR OF VLOGGIN...|Logan Paul Vlogs|[logan paul vlog,...|        39144|https://i.ytimg.c...|19.09|6582645| Entertainment|\n",
            "|         24|XpVt6Z1Gjjo|Logan Paul it's y...|      0|1 YEAR OF VLOGGIN...|Logan Paul Vlogs|[logan paul vlog,...|        39002|https://i.ytimg.c...|18.09|6545005| Entertainment|\n",
            "|         24|XpVt6Z1Gjjo|Logan Paul it's y...|      0|1 YEAR OF VLOGGIN...|Logan Paul Vlogs|[logan paul vlog,...|        38850|https://i.ytimg.c...|17.09|6455786| Entertainment|\n",
            "|         24|XpVt6Z1Gjjo|Logan Paul it's y...|      0|1 YEAR OF VLOGGIN...|Logan Paul Vlogs|[logan paul vlog,...|        39626|https://i.ytimg.c...|16.09|6341256| Entertainment|\n",
            "|         24|XpVt6Z1Gjjo|Logan Paul it's y...|      0|1 YEAR OF VLOGGIN...|Logan Paul Vlogs|[logan paul vlog,...|        54671|https://i.ytimg.c...|15.09|6193530| Entertainment|\n",
            "|         24|XpVt6Z1Gjjo|Logan Paul it's y...|      0|1 YEAR OF VLOGGIN...|Logan Paul Vlogs|[logan paul vlog,...|        52483|https://i.ytimg.c...|14.09|5789879| Entertainment|\n",
            "|         24|XpVt6Z1Gjjo|Logan Paul it's y...|      0|1 YEAR OF VLOGGIN...|Logan Paul Vlogs|[logan paul vlog,...|        46245|https://i.ytimg.c...|13.09|4708155| Entertainment|\n",
            "|         24|XpVt6Z1Gjjo|I've been followi...|      0|1 YEAR OF VLOGGIN...|Logan Paul Vlogs|[logan paul vlog,...|        39144|https://i.ytimg.c...|19.09|6582644| Entertainment|\n",
            "|         24|XpVt6Z1Gjjo|I've been followi...|      0|1 YEAR OF VLOGGIN...|Logan Paul Vlogs|[logan paul vlog,...|        39002|https://i.ytimg.c...|18.09|6545004| Entertainment|\n",
            "|         24|XpVt6Z1Gjjo|I've been followi...|      0|1 YEAR OF VLOGGIN...|Logan Paul Vlogs|[logan paul vlog,...|        38850|https://i.ytimg.c...|17.09|6455785| Entertainment|\n",
            "|         24|XpVt6Z1Gjjo|I've been followi...|      0|1 YEAR OF VLOGGIN...|Logan Paul Vlogs|[logan paul vlog,...|        39626|https://i.ytimg.c...|16.09|6341255| Entertainment|\n",
            "|         24|XpVt6Z1Gjjo|I've been followi...|      0|1 YEAR OF VLOGGIN...|Logan Paul Vlogs|[logan paul vlog,...|        54671|https://i.ytimg.c...|15.09|6193529| Entertainment|\n",
            "|         24|XpVt6Z1Gjjo|I've been followi...|      0|1 YEAR OF VLOGGIN...|Logan Paul Vlogs|[logan paul vlog,...|        52483|https://i.ytimg.c...|14.09|5789878| Entertainment|\n",
            "|         24|XpVt6Z1Gjjo|I've been followi...|      0|1 YEAR OF VLOGGIN...|Logan Paul Vlogs|[logan paul vlog,...|        46245|https://i.ytimg.c...|13.09|4708154| Entertainment|\n",
            "|         24|XpVt6Z1Gjjo|Say hi to Kong an...|      0|1 YEAR OF VLOGGIN...|Logan Paul Vlogs|[logan paul vlog,...|        39144|https://i.ytimg.c...|19.09|6582644| Entertainment|\n",
            "|         24|XpVt6Z1Gjjo|Say hi to Kong an...|      0|1 YEAR OF VLOGGIN...|Logan Paul Vlogs|[logan paul vlog,...|        39002|https://i.ytimg.c...|18.09|6545004| Entertainment|\n",
            "|         24|XpVt6Z1Gjjo|Say hi to Kong an...|      0|1 YEAR OF VLOGGIN...|Logan Paul Vlogs|[logan paul vlog,...|        38850|https://i.ytimg.c...|17.09|6455785| Entertainment|\n",
            "|         24|XpVt6Z1Gjjo|Say hi to Kong an...|      0|1 YEAR OF VLOGGIN...|Logan Paul Vlogs|[logan paul vlog,...|        39626|https://i.ytimg.c...|16.09|6341255| Entertainment|\n",
            "|         24|XpVt6Z1Gjjo|Say hi to Kong an...|      0|1 YEAR OF VLOGGIN...|Logan Paul Vlogs|[logan paul vlog,...|        54671|https://i.ytimg.c...|15.09|6193529| Entertainment|\n",
            "|         24|XpVt6Z1Gjjo|Say hi to Kong an...|      0|1 YEAR OF VLOGGIN...|Logan Paul Vlogs|[logan paul vlog,...|        52483|https://i.ytimg.c...|14.09|5789878| Entertainment|\n",
            "+-----------+-----------+--------------------+-------+--------------------+----------------+--------------------+-------------+--------------------+-----+-------+--------------+\n",
            "only showing top 20 rows\n",
            "\n",
            "CPU times: user 13.5 ms, sys: 1.92 ms, total: 15.4 ms\n",
            "Wall time: 1.59 s\n"
          ]
        }
      ]
    },
    {
      "cell_type": "markdown",
      "source": [
        "После применения broadcast время выполнения сокрасилось примерно в три раза с `6.61 s` по `2.89 s`"
      ],
      "metadata": {
        "id": "Ahl5KhzniNTD"
      }
    },
    {
      "cell_type": "code",
      "source": [
        "import statistics\n",
        "# Функция для расчета медианы из списка сгруппированных значений\n",
        "median_udf = f.udf(lambda x: statistics.median(x) / 1, t.DoubleType())"
      ],
      "metadata": {
        "id": "Q2D6AakqiCxg"
      },
      "execution_count": 77,
      "outputs": []
    },
    {
      "cell_type": "code",
      "source": [
        "%%time\n",
        "pre_categories_score.groupBy(f.col(\"category_id\")).agg(median_udf(f.collect_list(f.col('score'))).alias('median')).show()"
      ],
      "metadata": {
        "colab": {
          "base_uri": "https://localhost:8080/"
        },
        "id": "6jQnj-75iC05",
        "outputId": "0ba0071c-af81-4d9e-e30d-c799694e254f"
      },
      "execution_count": 78,
      "outputs": [
        {
          "output_type": "stream",
          "name": "stdout",
          "text": [
            "+-----------+---------+\n",
            "|category_id|   median|\n",
            "+-----------+---------+\n",
            "|         28| 687359.0|\n",
            "|         26| 347107.0|\n",
            "|         27| 296675.0|\n",
            "|         22| 462537.0|\n",
            "|          1| 855815.0|\n",
            "|         20| 312867.0|\n",
            "|         19| 302695.0|\n",
            "|         15| 355003.0|\n",
            "|         43|   8606.0|\n",
            "|         17| 293109.0|\n",
            "|         23|1105411.0|\n",
            "|         10| 324890.0|\n",
            "|         25| 278017.0|\n",
            "|         24| 541208.0|\n",
            "|         29|  66828.0|\n",
            "|          2| 499451.0|\n",
            "+-----------+---------+\n",
            "\n",
            "CPU times: user 215 ms, sys: 23 ms, total: 238 ms\n",
            "Wall time: 34.3 s\n"
          ]
        }
      ]
    },
    {
      "cell_type": "code",
      "source": [
        "def pd_median(score: pd.Series) -> pd.Series:\n",
        "    return score.median()\n",
        "median = f.pandas_udf(pd_median, returnType=t.DoubleType())"
      ],
      "metadata": {
        "id": "hVYe9ksbiC4A"
      },
      "execution_count": 79,
      "outputs": []
    },
    {
      "cell_type": "code",
      "source": [
        "%%time\n",
        "pre_categories_score.groupBy(f.col(\"category_id\")).agg(median(f.collect_list(f.col('score'))).alias('median')).show()"
      ],
      "metadata": {
        "colab": {
          "base_uri": "https://localhost:8080/",
          "height": 703
        },
        "id": "gg3W7eD9iC7R",
        "outputId": "fdb269ac-9abb-404c-b9f3-76fc1b9cec58"
      },
      "execution_count": 50,
      "outputs": [
        {
          "output_type": "error",
          "ename": "PythonException",
          "evalue": "ignored",
          "traceback": [
            "\u001b[0;31m---------------------------------------------------------------------------\u001b[0m",
            "\u001b[0;31mPythonException\u001b[0m                           Traceback (most recent call last)",
            "\u001b[0;32m<timed eval>\u001b[0m in \u001b[0;36m<module>\u001b[0;34m\u001b[0m\n",
            "\u001b[0;32m/usr/local/lib/python3.10/dist-packages/pyspark/sql/dataframe.py\u001b[0m in \u001b[0;36mshow\u001b[0;34m(self, n, truncate, vertical)\u001b[0m\n\u001b[1;32m    604\u001b[0m \u001b[0;34m\u001b[0m\u001b[0m\n\u001b[1;32m    605\u001b[0m         \u001b[0;32mif\u001b[0m \u001b[0misinstance\u001b[0m\u001b[0;34m(\u001b[0m\u001b[0mtruncate\u001b[0m\u001b[0;34m,\u001b[0m \u001b[0mbool\u001b[0m\u001b[0;34m)\u001b[0m \u001b[0;32mand\u001b[0m \u001b[0mtruncate\u001b[0m\u001b[0;34m:\u001b[0m\u001b[0;34m\u001b[0m\u001b[0;34m\u001b[0m\u001b[0m\n\u001b[0;32m--> 606\u001b[0;31m             \u001b[0mprint\u001b[0m\u001b[0;34m(\u001b[0m\u001b[0mself\u001b[0m\u001b[0;34m.\u001b[0m\u001b[0m_jdf\u001b[0m\u001b[0;34m.\u001b[0m\u001b[0mshowString\u001b[0m\u001b[0;34m(\u001b[0m\u001b[0mn\u001b[0m\u001b[0;34m,\u001b[0m \u001b[0;36m20\u001b[0m\u001b[0;34m,\u001b[0m \u001b[0mvertical\u001b[0m\u001b[0;34m)\u001b[0m\u001b[0;34m)\u001b[0m\u001b[0;34m\u001b[0m\u001b[0;34m\u001b[0m\u001b[0m\n\u001b[0m\u001b[1;32m    607\u001b[0m         \u001b[0;32melse\u001b[0m\u001b[0;34m:\u001b[0m\u001b[0;34m\u001b[0m\u001b[0;34m\u001b[0m\u001b[0m\n\u001b[1;32m    608\u001b[0m             \u001b[0;32mtry\u001b[0m\u001b[0;34m:\u001b[0m\u001b[0;34m\u001b[0m\u001b[0;34m\u001b[0m\u001b[0m\n",
            "\u001b[0;32m/usr/local/lib/python3.10/dist-packages/py4j/java_gateway.py\u001b[0m in \u001b[0;36m__call__\u001b[0;34m(self, *args)\u001b[0m\n\u001b[1;32m   1319\u001b[0m \u001b[0;34m\u001b[0m\u001b[0m\n\u001b[1;32m   1320\u001b[0m         \u001b[0manswer\u001b[0m \u001b[0;34m=\u001b[0m \u001b[0mself\u001b[0m\u001b[0;34m.\u001b[0m\u001b[0mgateway_client\u001b[0m\u001b[0;34m.\u001b[0m\u001b[0msend_command\u001b[0m\u001b[0;34m(\u001b[0m\u001b[0mcommand\u001b[0m\u001b[0;34m)\u001b[0m\u001b[0;34m\u001b[0m\u001b[0;34m\u001b[0m\u001b[0m\n\u001b[0;32m-> 1321\u001b[0;31m         return_value = get_return_value(\n\u001b[0m\u001b[1;32m   1322\u001b[0m             answer, self.gateway_client, self.target_id, self.name)\n\u001b[1;32m   1323\u001b[0m \u001b[0;34m\u001b[0m\u001b[0m\n",
            "\u001b[0;32m/usr/local/lib/python3.10/dist-packages/pyspark/sql/utils.py\u001b[0m in \u001b[0;36mdeco\u001b[0;34m(*a, **kw)\u001b[0m\n\u001b[1;32m    194\u001b[0m                 \u001b[0;31m# Hide where the exception came from that shows a non-Pythonic\u001b[0m\u001b[0;34m\u001b[0m\u001b[0;34m\u001b[0m\u001b[0m\n\u001b[1;32m    195\u001b[0m                 \u001b[0;31m# JVM exception message.\u001b[0m\u001b[0;34m\u001b[0m\u001b[0;34m\u001b[0m\u001b[0m\n\u001b[0;32m--> 196\u001b[0;31m                 \u001b[0;32mraise\u001b[0m \u001b[0mconverted\u001b[0m \u001b[0;32mfrom\u001b[0m \u001b[0;32mNone\u001b[0m\u001b[0;34m\u001b[0m\u001b[0;34m\u001b[0m\u001b[0m\n\u001b[0m\u001b[1;32m    197\u001b[0m             \u001b[0;32melse\u001b[0m\u001b[0;34m:\u001b[0m\u001b[0;34m\u001b[0m\u001b[0;34m\u001b[0m\u001b[0m\n\u001b[1;32m    198\u001b[0m                 \u001b[0;32mraise\u001b[0m\u001b[0;34m\u001b[0m\u001b[0;34m\u001b[0m\u001b[0m\n",
            "\u001b[0;31mPythonException\u001b[0m: \n  An exception was thrown from the Python worker. Please see the stack trace below.\nTraceback (most recent call last):\n  File \"<ipython-input-49-9d3ddb7937b9>\", line 2, in pd_median\n  File \"/usr/local/lib/python3.10/dist-packages/pandas/core/generic.py\", line 11917, in median\n    return NDFrame.median(self, axis, skipna, level, numeric_only, **kwargs)\n  File \"/usr/local/lib/python3.10/dist-packages/pandas/core/generic.py\", line 11413, in median\n    return self._stat_function(\n  File \"/usr/local/lib/python3.10/dist-packages/pandas/core/generic.py\", line 11353, in _stat_function\n    return self._reduce(\n  File \"/usr/local/lib/python3.10/dist-packages/pandas/core/series.py\", line 4816, in _reduce\n    return op(delegate, skipna=skipna, **kwds)\n  File \"/usr/local/lib/python3.10/dist-packages/pandas/core/nanops.py\", line 155, in f\n    result = alt(values, axis=axis, skipna=skipna, **kwds)\n  File \"/usr/local/lib/python3.10/dist-packages/pandas/core/nanops.py\", line 763, in nanmedian\n    raise TypeError(str(err)) from err\nTypeError: setting an array element with a sequence.\n"
          ]
        }
      ]
    },
    {
      "cell_type": "markdown",
      "source": [
        "dose not work =("
      ],
      "metadata": {
        "id": "rwTUn326ieYS"
      }
    },
    {
      "cell_type": "code",
      "source": [
        "categories_score = (\n",
        "    pre_categories_score\n",
        "    .groupBy(f.col(\"category_id\"))\n",
        "    .agg(\n",
        "        median_udf(f.collect_list(f.col('score'))).alias('median'),\n",
        "        f.first(\"video_id\").alias('video_id'),\n",
        "        f.first(\"title\").alias('title'),\n",
        "        f.first(\"channel_title\").alias('channel_title'),\n",
        "        f.first(\"thumbnail_link\").alias('thumbnail_link'),\n",
        "    )\n",
        ")\n",
        "categories_score.sort(f.desc(\"median\")).show()"
      ],
      "metadata": {
        "colab": {
          "base_uri": "https://localhost:8080/"
        },
        "id": "41K1M50PiC-B",
        "outputId": "6f9a605a-5c6d-4939-80b2-5cf2a531a507"
      },
      "execution_count": 45,
      "outputs": [
        {
          "output_type": "stream",
          "name": "stdout",
          "text": [
            "+-----------+---------+-----------+------------------------------------+--------------------+--------------------+\n",
            "|category_id|   median|   video_id|                               title|       channel_title|      thumbnail_link|\n",
            "+-----------+---------+-----------+------------------------------------+--------------------+--------------------+\n",
            "|         23|1127601.0|sjlHnJvXdQs|                   iPhone X (parody)|          jacksfilms|https://i.ytimg.c...|\n",
            "|          1| 855815.0|cMKX2tE5Luk|                The Disaster Arti...|                 A24|https://i.ytimg.c...|\n",
            "|          2| 754508.0|NzRuDD0iYC0|                Last Week Tonight...|        DeathByPixel|https://i.ytimg.c...|\n",
            "|         28| 751576.0|WYYvHb03Eog|                Apple iPhone X fi...|           The Verge|https://i.ytimg.c...|\n",
            "|         24| 503498.0|XpVt6Z1Gjjo|                1 YEAR OF VLOGGIN...|    Logan Paul Vlogs|https://i.ytimg.c...|\n",
            "|         22| 459306.0|cLdxuaxaQwc|                         My Response|           PewDiePie|https://i.ytimg.c...|\n",
            "|         15| 374138.0|Vjc459T6wX8|更なるフィット感を追求するねこ。-...|            mugumogu|https://i.ytimg.c...|\n",
            "|         26| 349114.0|w8fAellnPns|                Juicy Chicken Bre...| You Suck At Cooking|https://i.ytimg.c...|\n",
            "|         10| 308850.0|-Ifnaxi2LQg|                Fergie - You Alre...|          FergieVEVO|https://i.ytimg.c...|\n",
            "|         17| 303630.5|EVp4-qjWVJE|                Chargers vs. Bron...|                 NFL|https://i.ytimg.c...|\n",
            "|         20| 300209.0|bAon04ZJhHE|                Season 21 Preview...|  South Park Studios|https://i.ytimg.c...|\n",
            "|         27| 285455.0|ql0Op1VcELw|                What's Actually t...|Wendover Productions|https://i.ytimg.c...|\n",
            "|         25| 277301.0|B7YaMkCl3XA|                Hurricane Irma de...|  Al Jazeera English|https://i.ytimg.c...|\n",
            "|         19| 273036.0|wGQtrwey-TI|                SALTED EGG CRAB! ...|   Strictly Dumpling|https://i.ytimg.c...|\n",
            "|         29|  66828.0|CzJPjtyEZjE|                Snoop Dogg Raps W...|                AARP|https://i.ytimg.c...|\n",
            "|         43|   8606.0|5mdk5oz6l3w|                Pixel 2: Squeeze ...|                CNET|https://i.ytimg.c...|\n",
            "+-----------+---------+-----------+------------------------------------+--------------------+--------------------+\n",
            "\n"
          ]
        }
      ]
    },
    {
      "cell_type": "code",
      "source": [
        "scored_videos.select(\"video_id\", \"tags\").distinct().show()"
      ],
      "metadata": {
        "colab": {
          "base_uri": "https://localhost:8080/"
        },
        "id": "9cxttnX2iDBJ",
        "outputId": "50670ed1-99fb-4e89-af82-7ea87e1aa15a"
      },
      "execution_count": 46,
      "outputs": [
        {
          "output_type": "stream",
          "name": "stdout",
          "text": [
            "+-----------+--------------------+\n",
            "|   video_id|                tags|\n",
            "+-----------+--------------------+\n",
            "|Cz3Coxi9D3E|[Jacob, Banks, Un...|\n",
            "|JvkLPE8efME|[DESI PERKINS, TH...|\n",
            "|LTsSGSi9mqo|[Gadgets, Kitchen...|\n",
            "|MNst7laHZGg|[Morning Joe, Joe...|\n",
            "|j9UGpBZz7WU|[catalonia, catal...|\n",
            "|thD6TNUoyIk|[andrew, huang, a...|\n",
            "|VH1RwkrHPvA|[Canelés, cannele...|\n",
            "|4RPso1_xMYk|[viralhog, 2017, ...|\n",
            "|ql0Op1VcELw|[plane, of, the, ...|\n",
            "|3hq2c9vdfls|[cal, berkeley, g...|\n",
            "|q9o_VjdugHw|            [[none]]|\n",
            "|I_JtJHJ4384|       [madison.com]|\n",
            "|Q3Rq-irFn1w|[beauty, how to, ...|\n",
            "|an5vV5aw74I|[screen junkies, ...|\n",
            "|aVsOXRgjeeU|[Pitch Perfect, m...|\n",
            "|zWxo4uZW-1I|[makeup, tutorial...|\n",
            "|HUUsEgAe8x4|[venomous, toxic,...|\n",
            "|GWKI-CoCCTU|[nile wilson, nil...|\n",
            "|Q0CbN8sfihY|[star wars, the l...|\n",
            "|eN6JVKmMUhw|[johnny drille, r...|\n",
            "+-----------+--------------------+\n",
            "only showing top 20 rows\n",
            "\n"
          ]
        }
      ]
    },
    {
      "cell_type": "code",
      "source": [
        "popular_tags = (\n",
        "    scored_videos\n",
        "    .select(\"video_id\", \"tags\")\n",
        "    .withColumn(\"tag\", f.explode(f.col(\"tags\")))\n",
        "    .groupBy(\"video_id\", \"tag\")\n",
        "    .count()\n",
        ")"
      ],
      "metadata": {
        "id": "faS8sU29iDDp"
      },
      "execution_count": 47,
      "outputs": []
    },
    {
      "cell_type": "code",
      "source": [
        "popular_tags.sort(f.desc(\"count\")).show()"
      ],
      "metadata": {
        "colab": {
          "base_uri": "https://localhost:8080/"
        },
        "id": "B3XqX7gfi5cT",
        "outputId": "c7407b71-c620-4945-e247-d6785c6d5bf5"
      },
      "execution_count": 48,
      "outputs": [
        {
          "output_type": "stream",
          "name": "stdout",
          "text": [
            "+-----------+--------------------+-----+\n",
            "|   video_id|                 tag|count|\n",
            "+-----------+--------------------+-----+\n",
            "|CsdzflTXBVQ|     Awkward Puppets| 8400|\n",
            "|yIq-N7m0upU|        Anwar Jibawi| 7200|\n",
            "|50JL8DEeeS4|Almost Like Prayi...| 6444|\n",
            "|4X6a3G_0HjY|bella hadid insta...| 5600|\n",
            "|4X6a3G_0HjY| bella hadid fashion| 5600|\n",
            "|sjlHnJvXdQs|            iphone x| 5600|\n",
            "|XpVt6Z1Gjjo|     youtube history| 5600|\n",
            "|XpVt6Z1Gjjo|     logan paul vlog| 5600|\n",
            "|XpVt6Z1Gjjo|              logang| 5600|\n",
            "|XpVt6Z1Gjjo|logan paul 1 year...| 5600|\n",
            "|WYYvHb03Eog|         iphone 2017| 5600|\n",
            "|4X6a3G_0HjY|                 TMZ| 5600|\n",
            "|4X6a3G_0HjY|     bella hadid hot| 5600|\n",
            "|4X6a3G_0HjY|       Entertainment| 5600|\n",
            "|XpVt6Z1Gjjo|  logan paul youtube| 5600|\n",
            "|WYYvHb03Eog|      iPhone X specs| 5600|\n",
            "|WYYvHb03Eog|iPhone X release ...| 5600|\n",
            "|XpVt6Z1Gjjo|          10M plaque| 5600|\n",
            "|XpVt6Z1Gjjo|       logang 4 life| 5600|\n",
            "|XpVt6Z1Gjjo|              comedy| 5600|\n",
            "+-----------+--------------------+-----+\n",
            "only showing top 20 rows\n",
            "\n"
          ]
        }
      ]
    },
    {
      "cell_type": "code",
      "source": [
        "cat_df = (\n",
        "    joined_df\n",
        "    .where(f.array_contains(f.col(\"tags\"), \"cat\"))\n",
        "    .select(\"video_id\", \"comment_text\", \"comment_likes\")\n",
        "    .groupBy(\"video_id\", \"comment_text\")\n",
        "    .agg(f.max(\"comment_likes\").alias(\"max_likes\"))\n",
        "    .sort(f.desc(\"max_likes\"))\n",
        ")"
      ],
      "metadata": {
        "id": "cAzXBZWDi5fn"
      },
      "execution_count": 49,
      "outputs": []
    },
    {
      "cell_type": "code",
      "source": [
        "cat_df.show(5, False)"
      ],
      "metadata": {
        "colab": {
          "base_uri": "https://localhost:8080/"
        },
        "id": "rVGpa7F7i5iv",
        "outputId": "68aa6e4f-1481-4415-a740-379c44f4811a"
      },
      "execution_count": 50,
      "outputs": [
        {
          "output_type": "stream",
          "name": "stdout",
          "text": [
            "+-----------+------------------------------------------------------------------------------------------------------+---------+\n",
            "|video_id   |comment_text                                                                                          |max_likes|\n",
            "+-----------+------------------------------------------------------------------------------------------------------+---------+\n",
            "|-1fzGnFwz9M|I make interesting cartoons and I need your help! Go to the channel, rate my work!                    |839      |\n",
            "|tp9aQXDFHbY|Make sure to check back next Friday as we are launching our brand new animated HALLOWEEN special! 🐱🕷|304      |\n",
            "|tp9aQXDFHbY|1:51 so your nuts are your most prized possession?                                                    |100      |\n",
            "|tp9aQXDFHbY|If Simon will be make animation movie of Simons Cat adventures, I’ll go cinemas to watch it 😻        |37       |\n",
            "|Vjc459T6wX8|How does Mugumogu not collapse in a heap of laughter?!! Maru's liquified form is hilarious!           |33       |\n",
            "+-----------+------------------------------------------------------------------------------------------------------+---------+\n",
            "only showing top 5 rows\n",
            "\n"
          ]
        }
      ]
    },
    {
      "cell_type": "code",
      "source": [
        "cat_df.count()"
      ],
      "metadata": {
        "colab": {
          "base_uri": "https://localhost:8080/",
          "height": 0
        },
        "id": "vDOXb5s1r2eH",
        "outputId": "f728f1eb-4ad7-4062-d08f-05209f2c9660"
      },
      "execution_count": 60,
      "outputs": [
        {
          "output_type": "execute_result",
          "data": {
            "text/plain": [
              "2450"
            ]
          },
          "metadata": {},
          "execution_count": 60
        }
      ]
    },
    {
      "cell_type": "code",
      "source": [
        "import math\n",
        "import mmh3\n",
        "from bitarray import bitarray\n",
        "\n",
        "\n",
        "class BloomFilter(object):\n",
        "\n",
        "    '''\n",
        "    Class for Bloom filter, using murmur3 hash function\n",
        "    '''\n",
        "\n",
        "    def __init__(self, items_count, fp_prob):\n",
        "        '''\n",
        "        items_count : int\n",
        "            Number of items expected to be stored in bloom filter\n",
        "        fp_prob : float\n",
        "            False Positive probability in decimal\n",
        "        '''\n",
        "        self.items_count = items_count\n",
        "\n",
        "        # False possible probability in decimal\n",
        "        self.fp_prob = fp_prob\n",
        "\n",
        "        # Size of bit array to use\n",
        "        self.size = self.get_size(items_count, fp_prob)\n",
        "\n",
        "        # number of hash functions to use\n",
        "        self.hash_count = self.get_hash_count(self.size, items_count)\n",
        "\n",
        "        # Bit array of given size\n",
        "        self.bit_array = bitarray(self.size)\n",
        "\n",
        "        # initialize all bits as 0\n",
        "        self.bit_array.setall(0)\n",
        "\n",
        "    def add(self, item):\n",
        "        '''\n",
        "        Add an item in the filter\n",
        "        '''\n",
        "        digests = []\n",
        "        for i in range(self.hash_count):\n",
        "\n",
        "            # create digest for given item.\n",
        "            # i work as seed to mmh3.hash() function\n",
        "            # With different seed, digest created is different\n",
        "            digest = mmh3.hash(item, i) % self.size\n",
        "            digests.append(digest)\n",
        "\n",
        "            # set the bit True in bit_array\n",
        "            self.bit_array[digest] = True\n",
        "\n",
        "    def union(self, other):\n",
        "        \"\"\" Calculates the union of the two underlying bitarrays and returns\n",
        "        a new bloom filter object.\"\"\"\n",
        "        new_bloom = self.copy()\n",
        "        new_bloom.bit_array = new_bloom.bit_array | other.bit_array\n",
        "        return new_bloom\n",
        "\n",
        "    def check(self, item):\n",
        "        '''\n",
        "        Check for existence of an item in filter\n",
        "        '''\n",
        "        for i in range(self.hash_count):\n",
        "            digest = mmh3.hash(item, i) % self.size\n",
        "            if self.bit_array[digest] == False:\n",
        "\n",
        "                # if any of bit is False then,its not present\n",
        "                # in filter\n",
        "                # else there is probability that it exist\n",
        "                return False\n",
        "        return True\n",
        "\n",
        "    def copy(self):\n",
        "        \"\"\"Return a copy of this bloom filter.\n",
        "        \"\"\"\n",
        "        new_filter = BloomFilter(self.items_count, self.fp_prob)\n",
        "        new_filter.bit_array = self.bit_array.copy()\n",
        "        return new_filter\n",
        "\n",
        "    def set_bit_array(self, bit_array):\n",
        "        self.bit_array = bit_array\n",
        "\n",
        "    @classmethod\n",
        "    def get_size(self, n, p):\n",
        "        '''\n",
        "        Return the size of bit array(m) to used using\n",
        "        following formula\n",
        "        m = -(n * lg(p)) / (lg(2)^2)\n",
        "        n : int\n",
        "            number of items expected to be stored in filter\n",
        "        p : float\n",
        "            False Positive probability in decimal\n",
        "        '''\n",
        "        m = -(n * math.log(p))/(math.log(2)**2)\n",
        "        return int(m)\n",
        "\n",
        "    @classmethod\n",
        "    def get_hash_count(self, m, n):\n",
        "        '''\n",
        "        Return the hash function(k) to be used using\n",
        "        following formula\n",
        "        k = (m/n) * lg(2)\n",
        "\n",
        "        m : int\n",
        "            size of bit array\n",
        "        n : int\n",
        "            number of items expected to be stored in filter\n",
        "        '''\n",
        "        k = (m/n) * math.log(2)\n",
        "        return int(k)"
      ],
      "metadata": {
        "id": "Jolrmyv3i5la"
      },
      "execution_count": 80,
      "outputs": []
    },
    {
      "cell_type": "code",
      "source": [
        "from random import shuffle\n",
        "\n",
        "n = 20 #no of items to add\n",
        "p = 0.05 #false positive probability\n",
        "\n",
        "bloomf1 = BloomFilter(n,p)\n",
        "bloomf2 = BloomFilter(n,p)\n",
        "\n",
        "# words to be added\n",
        "word_present1 = ['abound','abounds','abundance','abundant','accessible',\n",
        "                'bloom','blossom','bolster','bonny','bonus','bonuses']\n",
        "\n",
        "# words to be added\n",
        "word_present2 = ['coherent','cohesive','colorful','comely','comfort',\n",
        "                'gems','generosity','generous','generously','genial']\n",
        "\n",
        "# word not added\n",
        "word_absent = ['bluff','cheater','hate','war','humanity',\n",
        "               'racism','hurt','nuke','gloomy','facebook',\n",
        "               'geeksforgeeks','twitter']\n",
        "\n",
        "for item in word_present1:\n",
        "    bloomf1.add(item)\n",
        "\n",
        "for item in word_present2:\n",
        "    bloomf2.add(item)\n",
        "\n",
        "bloomf = bloomf1.union(bloomf2)\n",
        "\n",
        "shuffle(word_present1)\n",
        "shuffle(word_present2)\n",
        "shuffle(word_absent)\n",
        "\n",
        "test_words = word_present1 + word_present2 + word_absent\n",
        "shuffle(test_words)\n",
        "for word in test_words:\n",
        "    if bloomf.check(word):\n",
        "        if word in word_absent:\n",
        "            print(\"'{}' is a false positive!\".format(word))\n",
        "        else:\n",
        "            print(\"'{}' is probably present!\".format(word))\n",
        "    else:\n",
        "        print(\"'{}' is definitely not present!\".format(word))"
      ],
      "metadata": {
        "colab": {
          "base_uri": "https://localhost:8080/"
        },
        "id": "TYRCbugIi5oS",
        "outputId": "53270b29-a3f8-41d7-bab0-e51476a953b8"
      },
      "execution_count": 81,
      "outputs": [
        {
          "output_type": "stream",
          "name": "stdout",
          "text": [
            "'bloom' is probably present!\n",
            "'cheater' is definitely not present!\n",
            "'geeksforgeeks' is definitely not present!\n",
            "'comely' is probably present!\n",
            "'generous' is probably present!\n",
            "'nuke' is definitely not present!\n",
            "'bolster' is probably present!\n",
            "'hurt' is definitely not present!\n",
            "'twitter' is a false positive!\n",
            "'war' is definitely not present!\n",
            "'abundance' is probably present!\n",
            "'bonus' is probably present!\n",
            "'accessible' is probably present!\n",
            "'facebook' is definitely not present!\n",
            "'humanity' is a false positive!\n",
            "'abound' is probably present!\n",
            "'colorful' is probably present!\n",
            "'abounds' is probably present!\n",
            "'comfort' is probably present!\n",
            "'generously' is probably present!\n",
            "'racism' is definitely not present!\n",
            "'bluff' is definitely not present!\n",
            "'blossom' is probably present!\n",
            "'bonny' is probably present!\n",
            "'coherent' is probably present!\n",
            "'gems' is probably present!\n",
            "'gloomy' is definitely not present!\n",
            "'genial' is probably present!\n",
            "'hate' is definitely not present!\n",
            "'generosity' is probably present!\n",
            "'bonuses' is probably present!\n",
            "'abundant' is probably present!\n",
            "'cohesive' is probably present!\n"
          ]
        }
      ]
    },
    {
      "cell_type": "code",
      "source": [
        "sample = joined_df.select(\"video_id\", \"comment_text\", \"comment_likes\", \"tags\").distinct().where(f.col(\"video_id\").isin([\"XpVt6Z1Gjjo\",\"WYYvHb03Eog\",\"cMKX2tE5Luk\",\"_ANP3HR1jsM\"]))"
      ],
      "metadata": {
        "id": "rg9okEKusBi-"
      },
      "execution_count": 90,
      "outputs": []
    },
    {
      "cell_type": "code",
      "source": [
        "# Создаем фильтр\n",
        "\n",
        "filterSize = 2945276\n",
        "prob = 0.05\n",
        "\n",
        "def fill_bloom_filter(bf, items):\n",
        "    for i in items:\n",
        "        bf.add(str(i[0]))\n",
        "    return bf\n",
        "\n",
        "bloom_filter = BloomFilter(filterSize, prob)\n",
        "\n",
        "general_bit_array = joined_df.select(f.col('tags')).rdd \\\n",
        "    .mapPartitions(lambda p: [fill_bloom_filter(BloomFilter(filterSize, prob), p).bit_array]) \\\n",
        "    .reduce(lambda a, b: a | b)\n",
        "  #  .reduce(lambda a, b: a.bit_array | b.bit_array)  так падает ошибка что у a/b нет .bit_array\n",
        "bloom_filter.set_bit_array(general_bit_array)\n",
        "\n",
        "maybe_in_bf = f.udf(lambda tags: bloom_filter.check(str(tags)))"
      ],
      "metadata": {
        "id": "OKnOp7S2i5rK"
      },
      "execution_count": 104,
      "outputs": []
    },
    {
      "cell_type": "code",
      "source": [
        "joined_df.count()"
      ],
      "metadata": {
        "colab": {
          "base_uri": "https://localhost:8080/"
        },
        "id": "_5T3MQrCxABr",
        "outputId": "461b2911-f4ff-4062-94df-69b218f3ef81"
      },
      "execution_count": 71,
      "outputs": [
        {
          "output_type": "execute_result",
          "data": {
            "text/plain": [
              "2945276"
            ]
          },
          "metadata": {},
          "execution_count": 71
        }
      ]
    },
    {
      "cell_type": "code",
      "source": [
        "# Используем фильтр\n",
        "blum_cat_df = (\n",
        "    joined_df\n",
        "    .filter(maybe_in_bf(f.col('tags')) == True)\n",
        "    .where(f.array_contains(f.col(\"tags\"), \"cat\"))\n",
        "    .select(\"video_id\", \"comment_text\", \"comment_likes\")\n",
        "    .groupBy(\"video_id\", \"comment_text\")\n",
        "    .agg(f.max(\"comment_likes\").alias(\"max_likes\"))\n",
        "    .sort(f.desc(\"max_likes\"))\n",
        ")"
      ],
      "metadata": {
        "id": "cStASROli5tz"
      },
      "execution_count": 105,
      "outputs": []
    },
    {
      "cell_type": "code",
      "source": [
        "blum_cat_df.show(5, False)"
      ],
      "metadata": {
        "colab": {
          "base_uri": "https://localhost:8080/"
        },
        "id": "ZLssE8BbwPQ7",
        "outputId": "1432971f-cd3b-4b22-94bb-8d31b2483aee"
      },
      "execution_count": 106,
      "outputs": [
        {
          "output_type": "stream",
          "name": "stdout",
          "text": [
            "+-----------+------------------------------------------------------------------------------------------------------+---------+\n",
            "|video_id   |comment_text                                                                                          |max_likes|\n",
            "+-----------+------------------------------------------------------------------------------------------------------+---------+\n",
            "|xbBMVa2A68s|The second I read this title in my notification, I started to giggle.                                 |2355     |\n",
            "|xbBMVa2A68s|talk about the ocean sunfish build                                                                    |1070     |\n",
            "|-1fzGnFwz9M|I make interesting cartoons and I need your help! Go to the channel, rate my work!                    |839      |\n",
            "|tp9aQXDFHbY|Make sure to check back next Friday as we are launching our brand new animated HALLOWEEN special! 🐱🕷|304      |\n",
            "|tp9aQXDFHbY|1:51 so your nuts are your most prized possession?                                                    |100      |\n",
            "+-----------+------------------------------------------------------------------------------------------------------+---------+\n",
            "only showing top 5 rows\n",
            "\n"
          ]
        }
      ]
    },
    {
      "cell_type": "code",
      "source": [
        "cat_df.count()"
      ],
      "metadata": {
        "colab": {
          "base_uri": "https://localhost:8080/"
        },
        "id": "2Cg9Fglzi5wT",
        "outputId": "effbb99e-9daf-4a50-8b43-78a62e3b1629"
      },
      "execution_count": 107,
      "outputs": [
        {
          "output_type": "execute_result",
          "data": {
            "text/plain": [
              "1745"
            ]
          },
          "metadata": {},
          "execution_count": 107
        }
      ]
    },
    {
      "cell_type": "markdown",
      "source": [
        "Результат изменился, сейчас появился max_likes = 2355     \n",
        "И уменьшилось кол-во строк с 2450 до 1745"
      ],
      "metadata": {
        "id": "Sws7y_Ol1-Q1"
      }
    }
  ]
}